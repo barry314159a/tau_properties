{
 "cells": [
  {
   "cell_type": "code",
   "execution_count": 4,
   "id": "a65d35d5-ba94-4d24-8bc3-b6ad2ccd243c",
   "metadata": {},
   "outputs": [],
   "source": [
    "import pickle\n",
    "\n",
    "#from deformed 'primetau 22oct25' in subfolder 'for sequel'\n",
    "\n",
    "#with open('/Users/barrybrent/data/run22oct25no4.txt', 'wb') as wfile:\n",
    "#    pickle.dump(charpol_list, wfile) #output snipped\n",
    "\n",
    "with open('/Users/barrybrent/data/run22oct25no4.txt', 'rb') as rfile:\n",
    "    deformed_charpol_list = pickle.load(rfile) \n",
    "\n",
    "with open('/Users/barrybrent/data/run22oct25no5.txt', 'rb') as rfile:\n",
    "    deformed_dets = pickle.load(rfile) \n",
    "\n",
    "# above, j(0) = 0.\n",
    "\n"
   ]
  },
  {
   "cell_type": "code",
   "execution_count": 52,
   "id": "9557066d-ecb2-44d4-b2e2-a19a19ffbe74",
   "metadata": {},
   "outputs": [
    {
     "name": "stdout",
     "output_type": "stream",
     "text": [
      "200 200\n",
      "[(1, x), (2, x^2 - 24), (3, x^3 - 72*x + 144)]\n",
      "\n",
      "[(1, x + 24), (2, x^2 + 48*x + 504), (3, x^3 + 72*x^2 + 1512*x - 28980)]\n"
     ]
    }
   ],
   "source": [
    "print(len(deformed_charpol_list),len(deformed_charpol_list))\n",
    "print(deformed_charpol_list[:3])\n",
    "print()\n",
    "print(undeformed_charpol_list[:3])"
   ]
  },
  {
   "cell_type": "code",
   "execution_count": 53,
   "id": "7aa4957b-6847-4e27-98bd-953648542eec",
   "metadata": {},
   "outputs": [
    {
     "name": "stdout",
     "output_type": "stream",
     "text": [
      "200 0\n"
     ]
    }
   ],
   "source": [
    "yes=[]\n",
    "no=[]\n",
    "for k in range(0,200):\n",
    "    deformed_poly=deformed_charpol_list[k][1]\n",
    "    undeformed_poly=undeformed_charpol_list[k][1]\n",
    "    if deformed_poly.degree()==undeformed_poly.degree():\n",
    "        yes+=[k]\n",
    "    if deformed_poly.degree()!=undeformed_poly.degree():\n",
    "        no+=[k]\n",
    "ly=len(yes)\n",
    "ln=len(no)\n",
    "print(ly,ln)"
   ]
  },
  {
   "cell_type": "code",
   "execution_count": 54,
   "id": "bbf8c9e9-f138-42bb-adbd-868871faedc5",
   "metadata": {},
   "outputs": [
    {
     "data": {
      "text/plain": [
       "200"
      ]
     },
     "execution_count": 54,
     "metadata": {},
     "output_type": "execute_result"
    }
   ],
   "source": [
    "len(deformed_charpol_list)"
   ]
  },
  {
   "cell_type": "code",
   "execution_count": 33,
   "id": "830b2195-4226-4d99-a607-e218f2330187",
   "metadata": {},
   "outputs": [
    {
     "name": "stdout",
     "output_type": "stream",
     "text": [
      "(1, 1, x, 0)\n",
      "(2, 2, x^2 - 24, -24)\n",
      "(3, 3, x^3 - 72*x + 144, 144)\n",
      "(4, 4, x^4 - 144*x^2 + 576*x + 114588, 114588)\n"
     ]
    }
   ],
   "source": [
    "RR.<x> = PolynomialRing(QQ)\n",
    "for j in [0..3]:\n",
    "    dett = QQ(deformed_dets[j][1])\n",
    "    n=deformed_dets[j][0]\n",
    "    poly = deformed_charpol_list[j][1]  # Don't convert to RR\n",
    "    print((n,binomial(n,n-1),poly,dett*(-1)**n))"
   ]
  },
  {
   "cell_type": "code",
   "execution_count": 106,
   "id": "54fb1ecf-d230-468e-83f5-de94742d34b8",
   "metadata": {},
   "outputs": [
    {
     "name": "stdout",
     "output_type": "stream",
     "text": [
      "[0, 0, 0, 0, 0, 0, 0, 0, 0, 0, 0, 0, 0, 0, 0, 0, 0, 0, 0, 0, 0, 0, 0, 0, 0, 0, 0, 0, 0, 0, 0, 0, 0, 0, 0, 0, 0, 0, 0, 0, 0, 0, 0, 0, 0, 0, 0, 0, 0, 0, 0, 0, 0, 0, 0, 0, 0, 0, 0, 0, 0, 0, 0, 0, 0, 0, 0, 0, 0, 0, 0, 0, 0, 0, 0, 0, 0, 0, 0, 0, 0, 0, 0, 0, 0, 0, 0, 0, 0, 0, 0, 0, 0, 0, 0, 0, 0, 0, 0, 0, 0, 0, 0, 0, 0, 0, 0, 0, 0, 0, 0, 0, 0, 0, 0, 0, 0, 0, 0, 0, 0, 0, 0, 0, 0, 0, 0, 0, 0, 0, 0, 0, 0, 0, 0, 0, 0, 0, 0, 0, 0, 0, 0, 0, 0, 0, 0, 0, 0, 0, 0, 0, 0, 0, 0, 0, 0, 0, 0, 0, 0, 0, 0, 0, 0, 0, 0, 0, 0, 0, 0, 0, 0, 0, 0, 0, 0, 0, 0, 0, 0, 0, 0, 0, 0, 0, 0, 0, 0, 0, 0, 0, 0, 0, 0, 0, 0, 0]\n"
     ]
    }
   ],
   "source": [
    "tests=[]\n",
    "for k in range(2,200):\n",
    "    n=deformed_charpol_list[k][0]\n",
    "    deformed_poly=deformed_charpol_list[k][1]\n",
    "    dg=deformed_poly.degree()\n",
    "    cff=deformed_poly[dg-(n-1)]\n",
    "    dett =binomial(dg,n-1)*deformed_dets[n-2][1]\n",
    "    tests+=[cff-dett*(-1)^(n-1)]\n",
    "print(tests)"
   ]
  },
  {
   "cell_type": "code",
   "execution_count": null,
   "id": "caf424d1-bc9a-4d9e-8ffd-9c978efe63d4",
   "metadata": {},
   "outputs": [],
   "source": []
  }
 ],
 "metadata": {
  "kernelspec": {
   "display_name": "SageMath 10.6",
   "language": "sage",
   "name": "sagemath-10.6"
  },
  "language_info": {
   "codemirror_mode": {
    "name": "ipython",
    "version": 3
   },
   "file_extension": ".py",
   "mimetype": "text/x-python",
   "name": "python",
   "nbconvert_exporter": "python",
   "pygments_lexer": "ipython3",
   "version": "3.12.5"
  }
 },
 "nbformat": 4,
 "nbformat_minor": 5
}
