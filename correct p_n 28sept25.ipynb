{
 "cells": [
  {
   "cell_type": "code",
   "execution_count": null,
   "id": "c65bf74d-5f68-4ad4-9df3-0578c9d3c3d4",
   "metadata": {},
   "outputs": [],
   "source": [
    "from sage.all import sigma, nth_prime\n",
    "import pickle\n",
    "\n",
    "prime_lst =[] # corrected prime list\n",
    "for k in range(1, 501):\n",
    "    prime_lst.append([k,nth_prime(k)])\n",
    "    print(k)\n",
    "\n",
    "with open('/Users/barrybrent/data/run10sept25no20.txt', 'wb') as wfile:\n",
    "    pickle.dump(prime_lst, wfile) #output snipped"
   ]
  },
  {
   "cell_type": "code",
   "execution_count": 2,
   "id": "df6dc455-326a-4f54-afda-aa86682beb52",
   "metadata": {},
   "outputs": [
    {
     "name": "stdout",
     "output_type": "stream",
     "text": [
      "[[1, 2], [2, 3], [3, 5], [4, 7], [5, 11], [6, 13], [7, 17], [8, 19], [9, 23], [10, 29]]\n"
     ]
    }
   ],
   "source": [
    "import pickle\n",
    "with open('/Users/barrybrent/data/run10sept25no20.txt', 'rb') as rfile:\n",
    "    h_list = pickle.load(rfile)\n",
    "print(h_list[:10])"
   ]
  },
  {
   "cell_type": "code",
   "execution_count": null,
   "id": "1423d289-1473-4bac-b4b0-7641e5ff274f",
   "metadata": {},
   "outputs": [],
   "source": [
    "import pickle\n",
    "with open('/Users/barrybrent/data/run10sept25no20.txt', 'rb') as rfile:\n",
    "    h_list = pickle.load(rfile)\n",
    "def h(n):\n",
    "    return h_list[n][1]\n",
    "j0=1\n",
    "#j_lst=[(0,j0)] << from p_n 10sept25 I thought was correct but no\n",
    "for n in range(0,len(h_list)):\n",
    "    sm=0\n",
    "    for r in [1..n-1]:\n",
    "        sm=sm+j_lst[r][1]*h(n-r)\n",
    "    jn=n*h(n)-sm\n",
    "    j_lst+=[(n,jn)]\n",
    "    print(n)\n",
    "\n",
    "with open('/Users/barrybrent/data/run10sept25no21.txt', 'wb') as wfile:\n",
    "    pickle.dump(j_lst, wfile) #output snipped"
   ]
  },
  {
   "cell_type": "code",
   "execution_count": 6,
   "id": "2a6748eb-9450-41b7-b5bf-ead187542f05",
   "metadata": {},
   "outputs": [
    {
     "name": "stdout",
     "output_type": "stream",
     "text": [
      "[1, 2]\n",
      "[2, 3]\n",
      "[3, 5]\n"
     ]
    }
   ],
   "source": [
    "import pickle\n",
    "with open('/Users/barrybrent/data/run10sept25no20.txt', 'rb') as rfile:\n",
    "    h_list = pickle.load(rfile)\n",
    "    for pair in h_list[:3]:\n",
    "        print(pair)"
   ]
  },
  {
   "cell_type": "code",
   "execution_count": 9,
   "id": "65158b46-1846-4c35-84bf-8e3005d9faf4",
   "metadata": {},
   "outputs": [
    {
     "name": "stdout",
     "output_type": "stream",
     "text": [
      "length j_list: 501\n",
      "(0, 1)\n",
      "(0, 0)\n",
      "(1, 3)\n"
     ]
    }
   ],
   "source": [
    "import pickle\n",
    "with open('/Users/barrybrent/data/run10sept25no21.txt', 'rb') as rfile:\n",
    "    j_list=pickle.load(rfile)\n",
    "print(\"length j_list:\",len(j_list))\n",
    "for pair in j_list[:3]:\n",
    "    print(pair)"
   ]
  },
  {
   "cell_type": "code",
   "execution_count": null,
   "id": "989eea59-f231-4350-bfc7-f92f98632b02",
   "metadata": {},
   "outputs": [],
   "source": [
    "import pickle\n",
    "with open('/Users/barrybrent/data/run10sept25no20.txt', 'rb') as rfile:\n",
    "    h_list = pickle.load(rfile)\n",
    "def h(n):\n",
    "    return h_list[n][1]\n",
    "j_list=[]\n",
    "for n in range(0,len(h_list)):\n",
    "    sm=0\n",
    "    for r in [1..n-1]:\n",
    "        sm=sm+j_list[r][1]*h(n-r)\n",
    "    j_n=n*h(n)-sm\n",
    "    j_list+=[(n,j_n)]\n",
    "    print(n)\n",
    "\n",
    "with open('/Users/barrybrent/data/run28sept25no1.txt', 'wb') as wfile:\n",
    "    pickle.dump(j_list, wfile) #output snipped"
   ]
  },
  {
   "cell_type": "code",
   "execution_count": 8,
   "id": "2d774afd-0ac0-4af9-b8e1-14d2c603a513",
   "metadata": {},
   "outputs": [
    {
     "name": "stdout",
     "output_type": "stream",
     "text": [
      "J:\n"
     ]
    },
    {
     "data": {
      "text/html": [
       "<html>\\(\\displaystyle \\left(\\begin{array}{r}\n",
       "0\n",
       "\\end{array}\\right)\\)</html>"
      ],
      "text/latex": [
       "$\\displaystyle \\left(\\begin{array}{r}\n",
       "0\n",
       "\\end{array}\\right)$"
      ],
      "text/plain": [
       "[0]"
      ]
     },
     "metadata": {},
     "output_type": "display_data"
    },
    {
     "name": "stdout",
     "output_type": "stream",
     "text": [
      "|J|: 0\n",
      "characteristic polynomial: x\n",
      "J:\n"
     ]
    },
    {
     "data": {
      "text/html": [
       "<html>\\(\\displaystyle \\left(\\begin{array}{rr}\n",
       "0 & -1 \\\\\n",
       "3 & 0\n",
       "\\end{array}\\right)\\)</html>"
      ],
      "text/latex": [
       "$\\displaystyle \\left(\\begin{array}{rr}\n",
       "0 & -1 \\\\\n",
       "3 & 0\n",
       "\\end{array}\\right)$"
      ],
      "text/plain": [
       "[ 0 -1]\n",
       "[ 3  0]"
      ]
     },
     "metadata": {},
     "output_type": "display_data"
    },
    {
     "name": "stdout",
     "output_type": "stream",
     "text": [
      "|J|: 3\n",
      "characteristic polynomial: x^2 + 3\n",
      "J:\n"
     ]
    },
    {
     "data": {
      "text/html": [
       "<html>\\(\\displaystyle \\left(\\begin{array}{rrr}\n",
       "0 & -1 & 0 \\\\\n",
       "3 & 0 & -2 \\\\\n",
       "1 & 3 & 0\n",
       "\\end{array}\\right)\\)</html>"
      ],
      "text/latex": [
       "$\\displaystyle \\left(\\begin{array}{rrr}\n",
       "0 & -1 & 0 \\\\\n",
       "3 & 0 & -2 \\\\\n",
       "1 & 3 & 0\n",
       "\\end{array}\\right)$"
      ],
      "text/plain": [
       "[ 0 -1  0]\n",
       "[ 3  0 -2]\n",
       "[ 1  3  0]"
      ]
     },
     "metadata": {},
     "output_type": "display_data"
    },
    {
     "name": "stdout",
     "output_type": "stream",
     "text": [
      "|J|: 2\n",
      "characteristic polynomial: x^3 + 9*x - 2\n"
     ]
    }
   ],
   "source": [
    "import pickle\n",
    "Rx.<x>=PolynomialRing(QQ)\n",
    "with open('/Users/barrybrent/data/run28sept25no1.txt', 'rb') as rfile:\n",
    "    j_list=pickle.load(rfile)\n",
    "j_values=[pair[1] for pair in j_list]\n",
    "def J_matrix(j_values):\n",
    "    n = len(j_values)\n",
    "    J = matrix(QQ, n, n, 0)  # symbolic ring matrix\n",
    "\n",
    "    for i in range(n):\n",
    "        for j in range(n):\n",
    "            # Construct matrix J\n",
    "            if j == 0:\n",
    "                J[i,j] = j_values[i]\n",
    "            elif j == i + 1:\n",
    "                J[i,j] = -(i + 1)  # superdiagonal: -1, -2, ...\n",
    "            elif 1 <= j <= i:\n",
    "                J[i,j] = j_values[i - j]\n",
    "            else:\n",
    "                J[i,j] = 0\n",
    "\n",
    "    return J\n",
    "for n in [1..3]:\n",
    "    jl=j_values[:n]\n",
    "    J = J_matrix(jl)\n",
    "    print(\"J:\")\n",
    "    show(J)\n",
    "    print(\"|J|:\", J.det())\n",
    "    cp=J.charpoly(x)\n",
    "    print(\"characteristic polynomial:\",cp)"
   ]
  },
  {
   "cell_type": "code",
   "execution_count": 11,
   "id": "8746e86c-f9d9-4be7-a725-640e6e3cdf77",
   "metadata": {},
   "outputs": [
    {
     "name": "stdout",
     "output_type": "stream",
     "text": [
      "n: 0\n",
      "---------------------------------------------------------------------------------------------------\n",
      "j values:\n",
      "[]\n"
     ]
    },
    {
     "data": {
      "text/html": [
       "<html>\\(\\displaystyle ()\\)</html>"
      ],
      "text/latex": [
       "$\\displaystyle ()$"
      ],
      "text/plain": [
       "[]"
      ]
     },
     "metadata": {},
     "output_type": "display_data"
    },
    {
     "name": "stdout",
     "output_type": "stream",
     "text": [
      "n: 1\n",
      "---------------------------------------------------------------------------------------------------\n",
      "j values:\n",
      "[0]\n"
     ]
    },
    {
     "data": {
      "text/html": [
       "<html>\\(\\displaystyle \\left(\\begin{array}{r}\n",
       "0\n",
       "\\end{array}\\right)\\)</html>"
      ],
      "text/latex": [
       "$\\displaystyle \\left(\\begin{array}{r}\n",
       "0\n",
       "\\end{array}\\right)$"
      ],
      "text/plain": [
       "[0]"
      ]
     },
     "metadata": {},
     "output_type": "display_data"
    },
    {
     "name": "stdout",
     "output_type": "stream",
     "text": [
      "n: 2\n",
      "---------------------------------------------------------------------------------------------------\n",
      "j values:\n",
      "[0, 3]\n"
     ]
    },
    {
     "data": {
      "text/html": [
       "<html>\\(\\displaystyle \\left(\\begin{array}{rr}\n",
       "0 & -1 \\\\\n",
       "3 & 0\n",
       "\\end{array}\\right)\\)</html>"
      ],
      "text/latex": [
       "$\\displaystyle \\left(\\begin{array}{rr}\n",
       "0 & -1 \\\\\n",
       "3 & 0\n",
       "\\end{array}\\right)$"
      ],
      "text/plain": [
       "[ 0 -1]\n",
       "[ 3  0]"
      ]
     },
     "metadata": {},
     "output_type": "display_data"
    },
    {
     "name": "stdout",
     "output_type": "stream",
     "text": [
      "n: 3\n",
      "---------------------------------------------------------------------------------------------------\n",
      "j values:\n",
      "[0, 3, 1]\n"
     ]
    },
    {
     "data": {
      "text/html": [
       "<html>\\(\\displaystyle \\left(\\begin{array}{rrr}\n",
       "0 & -1 & 0 \\\\\n",
       "3 & 0 & -2 \\\\\n",
       "1 & 3 & 0\n",
       "\\end{array}\\right)\\)</html>"
      ],
      "text/latex": [
       "$\\displaystyle \\left(\\begin{array}{rrr}\n",
       "0 & -1 & 0 \\\\\n",
       "3 & 0 & -2 \\\\\n",
       "1 & 3 & 0\n",
       "\\end{array}\\right)$"
      ],
      "text/plain": [
       "[ 0 -1  0]\n",
       "[ 3  0 -2]\n",
       "[ 1  3  0]"
      ]
     },
     "metadata": {},
     "output_type": "display_data"
    },
    {
     "name": "stdout",
     "output_type": "stream",
     "text": [
      "n: 4\n",
      "---------------------------------------------------------------------------------------------------\n",
      "j values:\n",
      "[0, 3, 1, 3]\n"
     ]
    },
    {
     "data": {
      "text/html": [
       "<html>\\(\\displaystyle \\left(\\begin{array}{rrrr}\n",
       "0 & -1 & 0 & 0 \\\\\n",
       "3 & 0 & -2 & 0 \\\\\n",
       "1 & 3 & 0 & -3 \\\\\n",
       "3 & 1 & 3 & 0\n",
       "\\end{array}\\right)\\)</html>"
      ],
      "text/latex": [
       "$\\displaystyle \\left(\\begin{array}{rrrr}\n",
       "0 & -1 & 0 & 0 \\\\\n",
       "3 & 0 & -2 & 0 \\\\\n",
       "1 & 3 & 0 & -3 \\\\\n",
       "3 & 1 & 3 & 0\n",
       "\\end{array}\\right)$"
      ],
      "text/plain": [
       "[ 0 -1  0  0]\n",
       "[ 3  0 -2  0]\n",
       "[ 1  3  0 -3]\n",
       "[ 3  1  3  0]"
      ]
     },
     "metadata": {},
     "output_type": "display_data"
    },
    {
     "name": "stdout",
     "output_type": "stream",
     "text": [
      "n: 5\n",
      "---------------------------------------------------------------------------------------------------\n",
      "j values:\n",
      "[0, 3, 1, 3, 9]\n"
     ]
    },
    {
     "data": {
      "text/html": [
       "<html>\\(\\displaystyle \\left(\\begin{array}{rrrrr}\n",
       "0 & -1 & 0 & 0 & 0 \\\\\n",
       "3 & 0 & -2 & 0 & 0 \\\\\n",
       "1 & 3 & 0 & -3 & 0 \\\\\n",
       "3 & 1 & 3 & 0 & -4 \\\\\n",
       "9 & 3 & 1 & 3 & 0\n",
       "\\end{array}\\right)\\)</html>"
      ],
      "text/latex": [
       "$\\displaystyle \\left(\\begin{array}{rrrrr}\n",
       "0 & -1 & 0 & 0 & 0 \\\\\n",
       "3 & 0 & -2 & 0 & 0 \\\\\n",
       "1 & 3 & 0 & -3 & 0 \\\\\n",
       "3 & 1 & 3 & 0 & -4 \\\\\n",
       "9 & 3 & 1 & 3 & 0\n",
       "\\end{array}\\right)$"
      ],
      "text/plain": [
       "[ 0 -1  0  0  0]\n",
       "[ 3  0 -2  0  0]\n",
       "[ 1  3  0 -3  0]\n",
       "[ 3  1  3  0 -4]\n",
       "[ 9  3  1  3  0]"
      ]
     },
     "metadata": {},
     "output_type": "display_data"
    },
    {
     "name": "stdout",
     "output_type": "stream",
     "text": [
      "n: 6\n",
      "---------------------------------------------------------------------------------------------------\n",
      "j values:\n",
      "[0, 3, 1, 3, 9, -17]\n"
     ]
    },
    {
     "data": {
      "text/html": [
       "<html>\\(\\displaystyle \\left(\\begin{array}{rrrrrr}\n",
       "0 & -1 & 0 & 0 & 0 & 0 \\\\\n",
       "3 & 0 & -2 & 0 & 0 & 0 \\\\\n",
       "1 & 3 & 0 & -3 & 0 & 0 \\\\\n",
       "3 & 1 & 3 & 0 & -4 & 0 \\\\\n",
       "9 & 3 & 1 & 3 & 0 & -5 \\\\\n",
       "-17 & 9 & 3 & 1 & 3 & 0\n",
       "\\end{array}\\right)\\)</html>"
      ],
      "text/latex": [
       "$\\displaystyle \\left(\\begin{array}{rrrrrr}\n",
       "0 & -1 & 0 & 0 & 0 & 0 \\\\\n",
       "3 & 0 & -2 & 0 & 0 & 0 \\\\\n",
       "1 & 3 & 0 & -3 & 0 & 0 \\\\\n",
       "3 & 1 & 3 & 0 & -4 & 0 \\\\\n",
       "9 & 3 & 1 & 3 & 0 & -5 \\\\\n",
       "-17 & 9 & 3 & 1 & 3 & 0\n",
       "\\end{array}\\right)$"
      ],
      "text/plain": [
       "[  0  -1   0   0   0   0]\n",
       "[  3   0  -2   0   0   0]\n",
       "[  1   3   0  -3   0   0]\n",
       "[  3   1   3   0  -4   0]\n",
       "[  9   3   1   3   0  -5]\n",
       "[-17   9   3   1   3   0]"
      ]
     },
     "metadata": {},
     "output_type": "display_data"
    },
    {
     "name": "stdout",
     "output_type": "stream",
     "text": [
      "n: 7\n",
      "---------------------------------------------------------------------------------------------------\n",
      "j values:\n",
      "[0, 3, 1, 3, 9, -17, 37]\n"
     ]
    },
    {
     "data": {
      "text/html": [
       "<html>\\(\\displaystyle \\left(\\begin{array}{rrrrrrr}\n",
       "0 & -1 & 0 & 0 & 0 & 0 & 0 \\\\\n",
       "3 & 0 & -2 & 0 & 0 & 0 & 0 \\\\\n",
       "1 & 3 & 0 & -3 & 0 & 0 & 0 \\\\\n",
       "3 & 1 & 3 & 0 & -4 & 0 & 0 \\\\\n",
       "9 & 3 & 1 & 3 & 0 & -5 & 0 \\\\\n",
       "-17 & 9 & 3 & 1 & 3 & 0 & -6 \\\\\n",
       "37 & -17 & 9 & 3 & 1 & 3 & 0\n",
       "\\end{array}\\right)\\)</html>"
      ],
      "text/latex": [
       "$\\displaystyle \\left(\\begin{array}{rrrrrrr}\n",
       "0 & -1 & 0 & 0 & 0 & 0 & 0 \\\\\n",
       "3 & 0 & -2 & 0 & 0 & 0 & 0 \\\\\n",
       "1 & 3 & 0 & -3 & 0 & 0 & 0 \\\\\n",
       "3 & 1 & 3 & 0 & -4 & 0 & 0 \\\\\n",
       "9 & 3 & 1 & 3 & 0 & -5 & 0 \\\\\n",
       "-17 & 9 & 3 & 1 & 3 & 0 & -6 \\\\\n",
       "37 & -17 & 9 & 3 & 1 & 3 & 0\n",
       "\\end{array}\\right)$"
      ],
      "text/plain": [
       "[  0  -1   0   0   0   0   0]\n",
       "[  3   0  -2   0   0   0   0]\n",
       "[  1   3   0  -3   0   0   0]\n",
       "[  3   1   3   0  -4   0   0]\n",
       "[  9   3   1   3   0  -5   0]\n",
       "[-17   9   3   1   3   0  -6]\n",
       "[ 37 -17   9   3   1   3   0]"
      ]
     },
     "metadata": {},
     "output_type": "display_data"
    },
    {
     "name": "stdout",
     "output_type": "stream",
     "text": [
      "n: 8\n",
      "---------------------------------------------------------------------------------------------------\n",
      "j values:\n",
      "[0, 3, 1, 3, 9, -17, 37, -53]\n"
     ]
    },
    {
     "data": {
      "text/html": [
       "<html>\\(\\displaystyle \\left(\\begin{array}{rrrrrrrr}\n",
       "0 & -1 & 0 & 0 & 0 & 0 & 0 & 0 \\\\\n",
       "3 & 0 & -2 & 0 & 0 & 0 & 0 & 0 \\\\\n",
       "1 & 3 & 0 & -3 & 0 & 0 & 0 & 0 \\\\\n",
       "3 & 1 & 3 & 0 & -4 & 0 & 0 & 0 \\\\\n",
       "9 & 3 & 1 & 3 & 0 & -5 & 0 & 0 \\\\\n",
       "-17 & 9 & 3 & 1 & 3 & 0 & -6 & 0 \\\\\n",
       "37 & -17 & 9 & 3 & 1 & 3 & 0 & -7 \\\\\n",
       "-53 & 37 & -17 & 9 & 3 & 1 & 3 & 0\n",
       "\\end{array}\\right)\\)</html>"
      ],
      "text/latex": [
       "$\\displaystyle \\left(\\begin{array}{rrrrrrrr}\n",
       "0 & -1 & 0 & 0 & 0 & 0 & 0 & 0 \\\\\n",
       "3 & 0 & -2 & 0 & 0 & 0 & 0 & 0 \\\\\n",
       "1 & 3 & 0 & -3 & 0 & 0 & 0 & 0 \\\\\n",
       "3 & 1 & 3 & 0 & -4 & 0 & 0 & 0 \\\\\n",
       "9 & 3 & 1 & 3 & 0 & -5 & 0 & 0 \\\\\n",
       "-17 & 9 & 3 & 1 & 3 & 0 & -6 & 0 \\\\\n",
       "37 & -17 & 9 & 3 & 1 & 3 & 0 & -7 \\\\\n",
       "-53 & 37 & -17 & 9 & 3 & 1 & 3 & 0\n",
       "\\end{array}\\right)$"
      ],
      "text/plain": [
       "[  0  -1   0   0   0   0   0   0]\n",
       "[  3   0  -2   0   0   0   0   0]\n",
       "[  1   3   0  -3   0   0   0   0]\n",
       "[  3   1   3   0  -4   0   0   0]\n",
       "[  9   3   1   3   0  -5   0   0]\n",
       "[-17   9   3   1   3   0  -6   0]\n",
       "[ 37 -17   9   3   1   3   0  -7]\n",
       "[-53  37 -17   9   3   1   3   0]"
      ]
     },
     "metadata": {},
     "output_type": "display_data"
    },
    {
     "name": "stdout",
     "output_type": "stream",
     "text": [
      "n: 9\n",
      "n: 10\n",
      "n: 11\n",
      "n: 12\n",
      "n: 13\n",
      "n: 14\n",
      "n: 15\n",
      "n: 16\n",
      "n: 17\n",
      "n: 18\n",
      "n: 19\n",
      "n: 20\n",
      "n: 21\n",
      "n: 22\n",
      "n: 23\n",
      "n: 24\n",
      "n: 25\n",
      "n: 26\n",
      "n: 27\n",
      "n: 28\n",
      "n: 29\n",
      "n: 30\n",
      "n: 31\n",
      "n: 32\n",
      "n: 33\n",
      "n: 34\n",
      "n: 35\n",
      "n: 36\n",
      "n: 37\n",
      "n: 38\n",
      "n: 39\n",
      "n: 40\n",
      "n: 41\n",
      "n: 42\n",
      "n: 43\n",
      "n: 44\n",
      "n: 45\n",
      "n: 46\n",
      "n: 47\n",
      "n: 48\n",
      "n: 49\n",
      "n: 50\n",
      "n: 51\n",
      "n: 52\n",
      "n: 53\n",
      "n: 54\n",
      "n: 55\n",
      "n: 56\n",
      "n: 57\n",
      "n: 58\n",
      "n: 59\n",
      "n: 60\n",
      "n: 61\n",
      "n: 62\n",
      "n: 63\n",
      "n: 64\n",
      "n: 65\n",
      "n: 66\n",
      "n: 67\n",
      "n: 68\n",
      "n: 69\n",
      "n: 70\n",
      "n: 71\n",
      "n: 72\n",
      "n: 73\n",
      "n: 74\n",
      "n: 75\n",
      "n: 76\n",
      "n: 77\n",
      "n: 78\n",
      "n: 79\n",
      "n: 80\n",
      "n: 81\n",
      "n: 82\n",
      "n: 83\n",
      "n: 84\n",
      "n: 85\n",
      "n: 86\n",
      "n: 87\n",
      "n: 88\n",
      "n: 89\n",
      "n: 90\n",
      "n: 91\n",
      "n: 92\n",
      "n: 93\n",
      "n: 94\n",
      "n: 95\n",
      "n: 96\n",
      "n: 97\n",
      "n: 98\n",
      "n: 99\n",
      "n: 100\n",
      "n: 101\n",
      "n: 102\n",
      "n: 103\n",
      "n: 104\n",
      "n: 105\n",
      "n: 106\n",
      "n: 107\n",
      "n: 108\n",
      "n: 109\n",
      "n: 110\n",
      "n: 111\n",
      "n: 112\n",
      "n: 113\n",
      "n: 114\n",
      "n: 115\n",
      "n: 116\n",
      "n: 117\n",
      "n: 118\n",
      "n: 119\n",
      "n: 120\n",
      "n: 121\n",
      "n: 122\n",
      "n: 123\n",
      "n: 124\n",
      "n: 125\n",
      "n: 126\n",
      "n: 127\n",
      "n: 128\n",
      "n: 129\n",
      "n: 130\n",
      "n: 131\n",
      "n: 132\n",
      "n: 133\n",
      "n: 134\n",
      "n: 135\n",
      "n: 136\n",
      "n: 137\n",
      "n: 138\n",
      "n: 139\n",
      "n: 140\n",
      "n: 141\n",
      "n: 142\n",
      "n: 143\n",
      "n: 144\n",
      "n: 145\n",
      "n: 146\n",
      "n: 147\n",
      "n: 148\n",
      "n: 149\n",
      "n: 150\n",
      "n: 151\n",
      "n: 152\n",
      "n: 153\n",
      "n: 154\n",
      "n: 155\n",
      "n: 156\n",
      "n: 157\n",
      "n: 158\n",
      "n: 159\n",
      "n: 160\n",
      "n: 161\n",
      "n: 162\n",
      "n: 163\n",
      "n: 164\n",
      "n: 165\n",
      "n: 166\n",
      "n: 167\n",
      "n: 168\n",
      "n: 169\n",
      "n: 170\n",
      "n: 171\n",
      "n: 172\n",
      "n: 173\n",
      "n: 174\n",
      "n: 175\n",
      "n: 176\n",
      "n: 177\n",
      "n: 178\n",
      "n: 179\n",
      "n: 180\n",
      "n: 181\n",
      "n: 182\n",
      "n: 183\n",
      "n: 184\n",
      "n: 185\n",
      "n: 186\n",
      "n: 187\n",
      "n: 188\n",
      "n: 189\n",
      "n: 190\n",
      "n: 191\n",
      "n: 192\n",
      "n: 193\n",
      "n: 194\n",
      "n: 195\n",
      "n: 196\n",
      "n: 197\n",
      "n: 198\n",
      "n: 199\n"
     ]
    }
   ],
   "source": [
    "import pickle\n",
    "Rx.<x>=PolynomialRing(QQ)\n",
    "with open('/Users/barrybrent/data/run28sept25no1.txt', 'rb') as rfile:\n",
    "    j_list=pickle.load(rfile)\n",
    "j_values=[pair[1] for pair in j_list]\n",
    "def J_matrix(j_values):\n",
    "    n = len(j_values)\n",
    "    J = matrix(QQ, n, n, 0)  # symbolic ring matrix\n",
    "\n",
    "    for i in range(n):\n",
    "        for j in range(n):\n",
    "            # Construct matrix J\n",
    "            if j == 0:\n",
    "                J[i,j] = j_values[i]\n",
    "            elif j == i + 1:\n",
    "                J[i,j] = -(i + 1)  # superdiagonal: -1, -2, ...\n",
    "            elif 1 <= j <= i:\n",
    "                J[i,j] = j_values[i - j]\n",
    "            else:\n",
    "                J[i,j] = 0\n",
    "\n",
    "    return J\n",
    "cp_list=[]\n",
    "for n in range(0,200):\n",
    "    print(\"n:\",n)\n",
    "    jl=j_values[:n]\n",
    "    J = J_matrix(jl)\n",
    "    cp=J.charpoly(algorithm=\"linbox\") # this linbox method is fast & efficient\n",
    "    cp_list.append((n, cp))\n",
    "    if n<9:\n",
    "        print(\"---------------------------------------------------------------------------------------------------\")\n",
    "        print(\"j values:\")\n",
    "        print(jl)\n",
    "        show(J)\n",
    "with open('/Users/barrybrent/data/run28sept25no2.txt', 'wb') as wfile:\n",
    "    pickle.dump(cp_list, wfile)"
   ]
  },
  {
   "cell_type": "code",
   "execution_count": 12,
   "id": "2b70cb67-5fe3-480b-b61a-7b0343c9dfca",
   "metadata": {},
   "outputs": [
    {
     "name": "stdout",
     "output_type": "stream",
     "text": [
      "[(0, 1), (1, x), (2, x^2 + 3), (3, x^3 + 9*x - 2), (4, x^4 + 18*x^2 - 8*x + 45)]\n"
     ]
    }
   ],
   "source": [
    "import pickle\n",
    "with open('/Users/barrybrent/data/run28sept25no2.txt', 'rb') as rfile:\n",
    "    cp_list = pickle.load(rfile)\n",
    "cpl=cp_list[:5]\n",
    "print(cpl)"
   ]
  },
  {
   "cell_type": "code",
   "execution_count": null,
   "id": "07fe9657",
   "metadata": {},
   "outputs": [],
   "source": []
  },
  {
   "cell_type": "code",
   "execution_count": 16,
   "id": "dc096c40-1035-45ea-81b1-099d64e6d4d3",
   "metadata": {},
   "outputs": [
    {
     "name": "stdout",
     "output_type": "stream",
     "text": [
      "n: 1\n",
      "n: 2\n",
      "n: 3\n",
      "n: 4\n",
      "n: 5\n",
      "n: 6\n",
      "n: 7\n",
      "n: 8\n",
      "n: 9\n",
      "n: 10\n",
      "n: 11\n",
      "n: 12\n",
      "n: 13\n",
      "n: 14\n",
      "n: 15\n",
      "n: 16\n",
      "n: 17\n",
      "n: 18\n",
      "n: 19\n",
      "n: 20\n",
      "n: 21\n",
      "n: 22\n",
      "n: 23\n",
      "n: 24\n",
      "n: 25\n",
      "n: 26\n",
      "n: 27\n",
      "n: 28\n",
      "n: 29\n",
      "n: 30\n",
      "n: 31\n",
      "n: 32\n",
      "n: 33\n",
      "n: 34\n",
      "n: 35\n",
      "n: 36\n",
      "n: 37\n",
      "n: 38\n",
      "n: 39\n",
      "n: 40\n",
      "n: 41\n",
      "n: 42\n",
      "n: 43\n",
      "n: 44\n",
      "n: 45\n",
      "n: 46\n",
      "n: 47\n",
      "n: 48\n",
      "n: 49\n",
      "n: 50\n",
      "n: 51\n",
      "n: 52\n",
      "n: 53\n",
      "n: 54\n",
      "n: 55\n",
      "n: 56\n",
      "n: 57\n",
      "n: 58\n",
      "n: 59\n",
      "n: 60\n",
      "n: 61\n",
      "n: 62\n",
      "n: 63\n",
      "n: 64\n",
      "n: 65\n",
      "n: 66\n",
      "n: 67\n",
      "n: 68\n",
      "n: 69\n",
      "n: 70\n",
      "n: 71\n",
      "n: 72\n",
      "n: 73\n",
      "n: 74\n",
      "n: 75\n",
      "n: 76\n",
      "n: 77\n",
      "n: 78\n",
      "n: 79\n",
      "n: 80\n",
      "n: 81\n",
      "n: 82\n",
      "n: 83\n",
      "n: 84\n",
      "n: 85\n",
      "n: 86\n",
      "n: 87\n",
      "n: 88\n",
      "n: 89\n",
      "n: 90\n",
      "n: 91\n",
      "n: 92\n",
      "n: 93\n",
      "n: 94\n",
      "n: 95\n",
      "n: 96\n",
      "n: 97\n",
      "n: 98\n",
      "n: 99\n",
      "n: 100\n",
      "n: 101\n",
      "n: 102\n",
      "n: 103\n",
      "n: 104\n",
      "n: 105\n",
      "n: 106\n",
      "n: 107\n",
      "n: 108\n",
      "n: 109\n",
      "n: 110\n",
      "n: 111\n",
      "n: 112\n",
      "n: 113\n",
      "n: 114\n",
      "n: 115\n",
      "n: 116\n",
      "n: 117\n",
      "n: 118\n",
      "n: 119\n",
      "n: 120\n",
      "n: 121\n",
      "n: 122\n",
      "n: 123\n",
      "n: 124\n",
      "n: 125\n",
      "n: 126\n",
      "n: 127\n",
      "n: 128\n",
      "n: 129\n",
      "n: 130\n",
      "n: 131\n",
      "n: 132\n",
      "n: 133\n",
      "n: 134\n",
      "n: 135\n",
      "n: 136\n",
      "n: 137\n",
      "n: 138\n",
      "n: 139\n",
      "n: 140\n",
      "n: 141\n",
      "n: 142\n",
      "n: 143\n",
      "n: 144\n",
      "n: 145\n",
      "n: 146\n",
      "n: 147\n",
      "n: 148\n",
      "n: 149\n",
      "n: 150\n",
      "n: 151\n",
      "n: 152\n",
      "n: 153\n",
      "n: 154\n",
      "n: 155\n",
      "n: 156\n",
      "n: 157\n",
      "n: 158\n",
      "n: 159\n",
      "n: 160\n",
      "n: 161\n",
      "n: 162\n",
      "n: 163\n",
      "n: 164\n",
      "n: 165\n",
      "n: 166\n",
      "n: 167\n",
      "n: 168\n",
      "n: 169\n",
      "n: 170\n",
      "n: 171\n",
      "n: 172\n",
      "n: 173\n",
      "n: 174\n",
      "n: 175\n",
      "n: 176\n",
      "n: 177\n",
      "n: 178\n",
      "n: 179\n",
      "n: 180\n",
      "n: 181\n",
      "n: 182\n",
      "n: 183\n",
      "n: 184\n",
      "n: 185\n",
      "n: 186\n",
      "n: 187\n",
      "n: 188\n",
      "n: 189\n",
      "n: 190\n",
      "n: 191\n",
      "n: 192\n",
      "n: 193\n",
      "n: 194\n",
      "n: 195\n",
      "n: 196\n",
      "n: 197\n",
      "n: 198\n"
     ]
    },
    {
     "data": {
      "image/png": "[encoded data removed]",
      "text/plain": [
       "Graphics object consisting of 1 graphics primitive"
      ]
     },
     "metadata": {},
     "output_type": "display_data"
    },
    {
     "name": "stdout",
     "output_type": "stream",
     "text": [
      "MINIMUM MODULI\n"
     ]
    }
   ],
   "source": [
    "import pickle\n",
    "from sage.all import matrix, QQ, list_plot, ComplexField, text, Graphics\n",
    "from datetime import datetime\n",
    "from pathlib import Path\n",
    "import sys\n",
    "# -------------------------\n",
    "# Paths and timestamped folder\n",
    "# -------------------------\n",
    "from sage.all import sigma, nth_prime\n",
    "import pickle\n",
    "\n",
    "from sage.all import ZZ, sigma\n",
    "\n",
    "import pickle\n",
    "with open('/Users/barrybrent/data/run28sept25no1.txt', 'rb') as rfile:\n",
    "    j_list=pickle.load(rfile)\n",
    "    \n",
    "with open('/Users/barrybrent/data/run10sept25no20.txt', 'rb') as rfile:\n",
    "    h_list = pickle.load(rfile)\n",
    "    \n",
    "with open('/Users/barrybrent/data/run28sept25no2.txt', 'rb') as rfile:\n",
    "    cp_list=pickle.load(rfile)\n",
    "    \n",
    "cp_s=[pair[1] for pair in cp_list[1:]]\n",
    "\n",
    "from sage.all import sigma, nth_prime\n",
    "\n",
    "from sage.all import ZZ, sigma\n",
    "from sage.all import *\n",
    "precision_bits = 100\n",
    "CIF = ComplexIntervalField(precision_bits)\n",
    "x = polygen(QQ)  # Can remain in preamble if all polynomials are in one variable\n",
    "matrix_list=[]\n",
    "charpol_list=[]\n",
    "roots_list=[]\n",
    "aar_list=[]\n",
    "centers_list=[]\n",
    "max_diameter_list=[]\n",
    "mins_list=[]\n",
    "checks=[]\n",
    "for bound in range(1,199):\n",
    "    print(\"n:\",bound)\n",
    "    cp=cp_s[bound]\n",
    "    roots = cp.roots(ring=CIF, multiplicities=False)        # produces list of roots as Sage objects\n",
    "    roots_list+=[(bound,roots)]\n",
    "    centers=[r.center() for r in roots]\n",
    "    pairs = [(z.real(), z.imag()) for z in centers]\n",
    "\n",
    "\n",
    "    centers_list+=[(bound,centers)]\n",
    "    max_diameter=max([r.diameter() for r in roots])\n",
    "    max_diameter_list+=[(bound,max_diameter)]\n",
    "    aar = [r.abs() for r in roots]\n",
    "    aar_list+=[(bound,aar)]\n",
    "    # compute absolute value for each root (before any conversion)\n",
    "    if aar!=[]:\n",
    "        minn = min(aar)                                         # minimum modulus\n",
    "        mins_list+=[(bound,minn)]\n",
    "    \n",
    "   \n",
    "        \n",
    "        \n",
    "p_points = list_plot(mins_list, plotjoined=False, marker='o', size=5)  # points\n",
    "\n",
    "\n",
    "p_points.axes_labels(['n', 'min modulus'])\n",
    "\n",
    "\n",
    "p_points.show()\n",
    "print(\"MINIMUM MODULI\")\n",
    "with open('/Users/barrybrent/data/run28sept25no3.txt', 'wb') as wfile:\n",
    "    pickle.dump(matrix_list, wfile)\n",
    "with open('/Users/barrybrent/data/run28sept25no4.txt', 'wb') as wfile:\n",
    "    pickle.dump(charpol_list, wfile)\n",
    "with open('/Users/barrybrent/data/run28sept25no5.txt', 'wb') as wfile:\n",
    "    pickle.dump(aar_list, wfile)\n",
    "with open('/Users/barrybrent/data/run28sept25no6.txt', 'wb') as wfile:\n",
    "    pickle.dump(centers_list, wfile)\n",
    "with open('/Users/barrybrent/data/run28sept25no7.txt', 'wb') as wfile:\n",
    "    pickle.dump(max_diameter_list, wfile)\n",
    "with open('/Users/barrybrent/data/run28sept25no8.txt', 'wb') as wfile:\n",
    "    pickle.dump(mins_list, wfile)\n"
   ]
  },
  {
   "cell_type": "code",
   "execution_count": null,
   "id": "281bf1fb-bd2c-44dc-bdcc-92a139202524",
   "metadata": {},
   "outputs": [],
   "source": []
  }
 ],
 "metadata": {
  "kernelspec": {
   "display_name": "SageMath 10.6",
   "language": "sage",
   "name": "sagemath-10.6"
  },
  "language_info": {
   "codemirror_mode": {
    "name": "ipython",
    "version": 3
   },
   "file_extension": ".py",
   "mimetype": "text/x-python",
   "name": "python",
   "nbconvert_exporter": "python",
   "pygments_lexer": "ipython3",
   "version": "3.12.5"
  }
 },
 "nbformat": 4,
 "nbformat_minor": 5
}
