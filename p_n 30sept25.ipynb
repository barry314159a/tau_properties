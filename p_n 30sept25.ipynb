{
 "cells": [
  {
   "cell_type": "code",
   "execution_count": null,
   "id": "425ab432-0798-4864-abeb-cfdedc98a2b0",
   "metadata": {},
   "outputs": [],
   "source": [
    "from sage.all import sigma, nth_prime\n",
    "import pickle\n",
    "import ast\n",
    "\n",
    "prime_lst =[] # corrected prime list\n",
    "for k in range(1, 501):\n",
    "    prime_lst.append([k,nth_prime(k)])\n",
    "    print(k)\n",
    "\n",
    "with open('/Users/barrybrent/data/run10sept25no20.txt', 'wb') as wfile:\n",
    "    pickle.dump(prime_lst, wfile) #output snipped"
   ]
  },
  {
   "cell_type": "code",
   "execution_count": null,
   "id": "3a4b8277-02fc-40ac-bd76-dfb664558470",
   "metadata": {},
   "outputs": [],
   "source": [
    "ls=[2,3,5]\n",
    "ls[1:]"
   ]
  },
  {
   "cell_type": "code",
   "execution_count": 24,
   "id": "d24d4d67-fe41-40e5-8aca-fee43fbbdb1f",
   "metadata": {},
   "outputs": [
    {
     "name": "stdout",
     "output_type": "stream",
     "text": [
      "[[1, 2], [2, 3], [3, 5], [4, 7], [5, 11], [6, 13], [7, 17], [8, 19], [9, 23], [10, 29]]\n",
      "length: 500\n"
     ]
    }
   ],
   "source": [
    "import pickle\n",
    "with open('/Users/barrybrent/data/run10sept25no20.txt', 'rb') as rfile:\n",
    "    prime_list = pickle.load(rfile)\n",
    "print(prime_list[:10])\n",
    "print(\"length:\",len(prime_list))"
   ]
  },
  {
   "cell_type": "code",
   "execution_count": 9,
   "id": "ab1fabbe-5a43-4bea-a7f9-d06948d97ce8",
   "metadata": {},
   "outputs": [
    {
     "name": "stdout",
     "output_type": "stream",
     "text": [
      "[[0, 1], [1, 2], [2, 3]]\n"
     ]
    }
   ],
   "source": [
    "import pickle\n",
    "with open('/Users/barrybrent/data/run10sept25no20.txt', 'rb') as rfile:\n",
    "    prime_list = pickle.load(rfile)\n",
    "h_list=[[0,1]]+prime_list # h_0 = 1 required by the lemmas\n",
    "print(h_list[:3])"
   ]
  },
  {
   "cell_type": "code",
   "execution_count": null,
   "id": "ca53ac72-9d88-46cf-b862-3c8fbc90d10e",
   "metadata": {},
   "outputs": [],
   "source": [
    "import pickle\n",
    "with open('/Users/barrybrent/data/run10sept25no20.txt', 'rb') as rfile:\n",
    "    prime_list = pickle.load(rfile)\n",
    "h_list=[[0,1]]+prime_list # h_0 = 1 required by the lemmas\n",
    "j_list=[(0,0)] # first entry is just an offset. \n",
    "for n in [1..500]:# so j(1) = 1 = h(0) as required.\n",
    "    print(n)\n",
    "    sm=0\n",
    "    for r in [0..n-1]:\n",
    "        sm=sm+j_list[r][1]*h_list[n-r][1]\n",
    "    j_n=n*h_list[n][1]-sm\n",
    "    j_list.append((n,j_n))\n",
    "    \n",
    "print(\"j length:\",len(j_list))   \n",
    "print(j_list[:5])\n",
    "with open('/Users/barrybrent/data/run30sept25no1.txt', 'wb') as wfile:\n",
    "    pickle.dump(j_list, wfile) # ouput snipped"
   ]
  },
  {
   "cell_type": "code",
   "execution_count": 87,
   "id": "c1b2c0fd-2a57-4ce5-a2fc-9dc58f46d09a",
   "metadata": {},
   "outputs": [
    {
     "name": "stdout",
     "output_type": "stream",
     "text": [
      "[(0, 0), (1, 2), (2, 2), (3, 5), (4, 2)]\n",
      "501\n"
     ]
    }
   ],
   "source": [
    "import pickle\n",
    "with open('/Users/barrybrent/data/run30sept25no1.txt', 'rb') as rfile:\n",
    "    j_list = pickle.load(rfile)\n",
    "print(j_list[:5])\n",
    "print(len(j_list))"
   ]
  },
  {
   "cell_type": "code",
   "execution_count": 90,
   "id": "fa1390f3-14c4-4450-b92e-ad49e8180ee3",
   "metadata": {},
   "outputs": [
    {
     "data": {
      "text/html": [
       "<html>\\(\\displaystyle \\left(\\begin{array}{rr}\n",
       "2 & -1 \\\\\n",
       "2 & 2\n",
       "\\end{array}\\right)\\)</html>"
      ],
      "text/latex": [
       "$\\displaystyle \\left(\\begin{array}{rr}\n",
       "2 & -1 \\\\\n",
       "2 & 2\n",
       "\\end{array}\\right)$"
      ],
      "text/plain": [
       "[ 2 -1]\n",
       "[ 2  2]"
      ]
     },
     "metadata": {},
     "output_type": "display_data"
    },
    {
     "name": "stdout",
     "output_type": "stream",
     "text": [
      "(2, 1)\n"
     ]
    },
    {
     "data": {
      "text/html": [
       "<html>\\(\\displaystyle \\left(\\begin{array}{rrr}\n",
       "2 & -1 & 0 \\\\\n",
       "2 & 2 & -2 \\\\\n",
       "5 & 2 & 2\n",
       "\\end{array}\\right)\\)</html>"
      ],
      "text/latex": [
       "$\\displaystyle \\left(\\begin{array}{rrr}\n",
       "2 & -1 & 0 \\\\\n",
       "2 & 2 & -2 \\\\\n",
       "5 & 2 & 2\n",
       "\\end{array}\\right)$"
      ],
      "text/plain": [
       "[ 2 -1  0]\n",
       "[ 2  2 -2]\n",
       "[ 5  2  2]"
      ]
     },
     "metadata": {},
     "output_type": "display_data"
    },
    {
     "name": "stdout",
     "output_type": "stream",
     "text": [
      "(3, 1)\n"
     ]
    },
    {
     "data": {
      "text/html": [
       "<html>\\(\\displaystyle \\left(\\begin{array}{rrrr}\n",
       "2 & -1 & 0 & 0 \\\\\n",
       "2 & 2 & -2 & 0 \\\\\n",
       "5 & 2 & 2 & -3 \\\\\n",
       "2 & 5 & 2 & 2\n",
       "\\end{array}\\right)\\)</html>"
      ],
      "text/latex": [
       "$\\displaystyle \\left(\\begin{array}{rrrr}\n",
       "2 & -1 & 0 & 0 \\\\\n",
       "2 & 2 & -2 & 0 \\\\\n",
       "5 & 2 & 2 & -3 \\\\\n",
       "2 & 5 & 2 & 2\n",
       "\\end{array}\\right)$"
      ],
      "text/plain": [
       "[ 2 -1  0  0]\n",
       "[ 2  2 -2  0]\n",
       "[ 5  2  2 -3]\n",
       "[ 2  5  2  2]"
      ]
     },
     "metadata": {},
     "output_type": "display_data"
    },
    {
     "name": "stdout",
     "output_type": "stream",
     "text": [
      "(4, 1)\n"
     ]
    },
    {
     "data": {
      "text/html": [
       "<html>\\(\\displaystyle \\left(\\begin{array}{rrrrr}\n",
       "2 & -1 & 0 & 0 & 0 \\\\\n",
       "2 & 2 & -2 & 0 & 0 \\\\\n",
       "5 & 2 & 2 & -3 & 0 \\\\\n",
       "2 & 5 & 2 & 2 & -4 \\\\\n",
       "12 & 2 & 5 & 2 & 2\n",
       "\\end{array}\\right)\\)</html>"
      ],
      "text/latex": [
       "$\\displaystyle \\left(\\begin{array}{rrrrr}\n",
       "2 & -1 & 0 & 0 & 0 \\\\\n",
       "2 & 2 & -2 & 0 & 0 \\\\\n",
       "5 & 2 & 2 & -3 & 0 \\\\\n",
       "2 & 5 & 2 & 2 & -4 \\\\\n",
       "12 & 2 & 5 & 2 & 2\n",
       "\\end{array}\\right)$"
      ],
      "text/plain": [
       "[ 2 -1  0  0  0]\n",
       "[ 2  2 -2  0  0]\n",
       "[ 5  2  2 -3  0]\n",
       "[ 2  5  2  2 -4]\n",
       "[12  2  5  2  2]"
      ]
     },
     "metadata": {},
     "output_type": "display_data"
    },
    {
     "name": "stdout",
     "output_type": "stream",
     "text": [
      "(5, 1)\n"
     ]
    },
    {
     "data": {
      "text/html": [
       "<html>\\(\\displaystyle \\left(\\begin{array}{rrrrrr}\n",
       "2 & -1 & 0 & 0 & 0 & 0 \\\\\n",
       "2 & 2 & -2 & 0 & 0 & 0 \\\\\n",
       "5 & 2 & 2 & -3 & 0 & 0 \\\\\n",
       "2 & 5 & 2 & 2 & -4 & 0 \\\\\n",
       "12 & 2 & 5 & 2 & 2 & -5 \\\\\n",
       "-13 & 12 & 2 & 5 & 2 & 2\n",
       "\\end{array}\\right)\\)</html>"
      ],
      "text/latex": [
       "$\\displaystyle \\left(\\begin{array}{rrrrrr}\n",
       "2 & -1 & 0 & 0 & 0 & 0 \\\\\n",
       "2 & 2 & -2 & 0 & 0 & 0 \\\\\n",
       "5 & 2 & 2 & -3 & 0 & 0 \\\\\n",
       "2 & 5 & 2 & 2 & -4 & 0 \\\\\n",
       "12 & 2 & 5 & 2 & 2 & -5 \\\\\n",
       "-13 & 12 & 2 & 5 & 2 & 2\n",
       "\\end{array}\\right)$"
      ],
      "text/plain": [
       "[  2  -1   0   0   0   0]\n",
       "[  2   2  -2   0   0   0]\n",
       "[  5   2   2  -3   0   0]\n",
       "[  2   5   2   2  -4   0]\n",
       "[ 12   2   5   2   2  -5]\n",
       "[-13  12   2   5   2   2]"
      ]
     },
     "metadata": {},
     "output_type": "display_data"
    },
    {
     "name": "stdout",
     "output_type": "stream",
     "text": [
      "(6, 1)\n"
     ]
    },
    {
     "data": {
      "text/html": [
       "<html>\\(\\displaystyle \\left(\\begin{array}{rrrrrrr}\n",
       "2 & -1 & 0 & 0 & 0 & 0 & 0 \\\\\n",
       "2 & 2 & -2 & 0 & 0 & 0 & 0 \\\\\n",
       "5 & 2 & 2 & -3 & 0 & 0 & 0 \\\\\n",
       "2 & 5 & 2 & 2 & -4 & 0 & 0 \\\\\n",
       "12 & 2 & 5 & 2 & 2 & -5 & 0 \\\\\n",
       "-13 & 12 & 2 & 5 & 2 & 2 & -6 \\\\\n",
       "16 & -13 & 12 & 2 & 5 & 2 & 2\n",
       "\\end{array}\\right)\\)</html>"
      ],
      "text/latex": [
       "$\\displaystyle \\left(\\begin{array}{rrrrrrr}\n",
       "2 & -1 & 0 & 0 & 0 & 0 & 0 \\\\\n",
       "2 & 2 & -2 & 0 & 0 & 0 & 0 \\\\\n",
       "5 & 2 & 2 & -3 & 0 & 0 & 0 \\\\\n",
       "2 & 5 & 2 & 2 & -4 & 0 & 0 \\\\\n",
       "12 & 2 & 5 & 2 & 2 & -5 & 0 \\\\\n",
       "-13 & 12 & 2 & 5 & 2 & 2 & -6 \\\\\n",
       "16 & -13 & 12 & 2 & 5 & 2 & 2\n",
       "\\end{array}\\right)$"
      ],
      "text/plain": [
       "[  2  -1   0   0   0   0   0]\n",
       "[  2   2  -2   0   0   0   0]\n",
       "[  5   2   2  -3   0   0   0]\n",
       "[  2   5   2   2  -4   0   0]\n",
       "[ 12   2   5   2   2  -5   0]\n",
       "[-13  12   2   5   2   2  -6]\n",
       "[ 16 -13  12   2   5   2   2]"
      ]
     },
     "metadata": {},
     "output_type": "display_data"
    },
    {
     "name": "stdout",
     "output_type": "stream",
     "text": [
      "(7, 1)\n",
      "tests:\n",
      "[1, 1, 1, 1, 1, 1]\n",
      "MINIMUM MODULI\n"
     ]
    },
    {
     "data": {
      "image/png": "[encoded data removed]",
      "text/plain": [
       "Graphics object consisting of 1 graphics primitive"
      ]
     },
     "metadata": {},
     "output_type": "display_data"
    },
    {
     "name": "stdout",
     "output_type": "stream",
     "text": [
      "LOGS MINIMUM MODULI\n"
     ]
    },
    {
     "data": {
      "image/png": "[encoded data removed]",
      "text/plain": [
       "Graphics object consisting of 1 graphics primitive"
      ]
     },
     "metadata": {},
     "output_type": "display_data"
    },
    {
     "name": "stdout",
     "output_type": "stream",
     "text": [
      "MAXIMUM MODULI\n"
     ]
    },
    {
     "data": {
      "image/png": "[encoded data removed]",
      "text/plain": [
       "Graphics object consisting of 1 graphics primitive"
      ]
     },
     "metadata": {},
     "output_type": "display_data"
    },
    {
     "name": "stdout",
     "output_type": "stream",
     "text": [
      "LOGS MAXIMUM MODULI\n"
     ]
    },
    {
     "data": {
      "image/png": "[encoded data removed]",
      "text/plain": [
       "Graphics object consisting of 0 graphics primitives"
      ]
     },
     "metadata": {},
     "output_type": "display_data"
    }
   ],
   "source": [
    "# try to correct the offset\n",
    "def P_matrix(lst):\n",
    "    lenlist = len(lst)\n",
    "    columns = [lst]\n",
    "    for k in range(1, lenlist):\n",
    "        column = [0]*(k-1) + [-k] + lst\n",
    "        column = column[:lenlist]\n",
    "        columns.append(column)\n",
    "    return matrix(columns).transpose()\n",
    "\n",
    "import pickle\n",
    "with open('/Users/barrybrent/data/run30sept25no1.txt', 'rb') as rfile:\n",
    "    j_list = pickle.load(rfile)\n",
    "\n",
    "\n",
    "from sage.all import *\n",
    "precision_bits = 100\n",
    "CIF = ComplexIntervalField(precision_bits)\n",
    "x = polygen(QQ)  # Can remain in preamble if all polynomials are in one variable\n",
    "matrix_list=[]\n",
    "charpol_list=[]\n",
    "roots_list=[]\n",
    "aar_list=[]\n",
    "centers_list=[]\n",
    "max_diameter_list=[]\n",
    "mins_list=[]\n",
    "maxes_list=[]\n",
    "log_mins_list=[]\n",
    "log_maxes_list=[]\n",
    "no=[]\n",
    "tests=[]\n",
    "for bound in range(2,8):\n",
    "    lst = [j[1] for j in j_list[1:bound+1]] # cuts out the dummy offset\n",
    "    inpt=[j for j in lst]\n",
    "    pl=P_matrix(inpt)\n",
    "    test=pl.det()/(nth_prime(bound)*factorial(bound))\n",
    "    tests.append(test)\n",
    "    show(pl)\n",
    "    print((bound,test))\n",
    "    matrix_list+=[(bound,pl)]\n",
    "    cp=pl.charpoly()\n",
    "    charpol_list+=[(bound,cp)]\n",
    "    roots = cp.roots(ring=CIF, multiplicities=False)        # produces list of roots as Sage objects\n",
    "    roots_list+=[(bound,roots)]\n",
    "    centers=[r.center() for r in roots]\n",
    "    pairs = [(z.real(), z.imag()) for z in centers]\n",
    "\n",
    "# Plot the points (no lines, small points, only axis ticks)\n",
    "    p = list_plot(pairs, plotjoined=False, pointsize=10, axes_labels=['', ''])\n",
    "    #p.show()\n",
    "    centers_list+=[(bound,centers)]\n",
    "    max_diameter=max([r.diameter() for r in roots])\n",
    "    max_diameter_list+=[(bound,max_diameter)]\n",
    "    aar = [r.abs() for r in roots]\n",
    "    aar_list+=[(bound,aar)]\n",
    "    # compute absolute value for each root (before any conversion)\n",
    "    if aar!=[]:\n",
    "        minn = min(aar)\n",
    "        mins_list.append((bound,minn))\n",
    "        log_minn=log(minn)\n",
    "        log_mins_list.append((bound,log_minn))\n",
    "        maxx=max(aar)\n",
    "        maxes_list.append((bound,maxx))\n",
    "    \n",
    "print(\"tests:\")\n",
    "print(tests)\n",
    "p = list_plot(mins_list, plotjoined=True, axes_labels=['', ''])\n",
    "print(\"MINIMUM MODULI\")\n",
    "p.show()\n",
    "p = list_plot(log_mins_list, plotjoined=False, pointsize=5, axes_labels=['', ''])\n",
    "print(\"LOGS MINIMUM MODULI\")\n",
    "p.show()\n",
    "p = list_plot(maxes_list, plotjoined=True, axes_labels=['', ''])\n",
    "print(\"MAXIMUM MODULI\")\n",
    "p.show()\n",
    "p = list_plot(log_maxes_list, plotjoined=False, pointsize=5, axes_labels=['', ''])\n",
    "print(\"LOGS MAXIMUM MODULI\")\n",
    "p.show()"
   ]
  },
  {
   "cell_type": "code",
   "execution_count": 91,
   "id": "be8b34fd-f08e-425d-8f2f-ff8deaee00d2",
   "metadata": {},
   "outputs": [
    {
     "name": "stdout",
     "output_type": "stream",
     "text": [
      "(2, 1)\n",
      "(3, 1)\n",
      "(4, 1)\n",
      "(5, 1)\n",
      "(6, 1)\n",
      "(7, 1)\n",
      "(8, 1)\n",
      "(9, 1)\n",
      "(10, 1)\n",
      "(11, 1)\n",
      "(12, 1)\n",
      "(13, 1)\n",
      "(14, 1)\n",
      "(15, 1)\n",
      "(16, 1)\n",
      "(17, 1)\n",
      "(18, 1)\n",
      "(19, 1)\n",
      "(20, 1)\n",
      "(21, 1)\n",
      "(22, 1)\n",
      "(23, 1)\n",
      "(24, 1)\n",
      "(25, 1)\n",
      "(26, 1)\n",
      "(27, 1)\n",
      "(28, 1)\n",
      "(29, 1)\n",
      "(30, 1)\n",
      "(31, 1)\n",
      "(32, 1)\n",
      "(33, 1)\n",
      "(34, 1)\n",
      "(35, 1)\n",
      "(36, 1)\n",
      "(37, 1)\n",
      "(38, 1)\n",
      "(39, 1)\n",
      "(40, 1)\n",
      "(41, 1)\n",
      "(42, 1)\n",
      "(43, 1)\n",
      "(44, 1)\n",
      "(45, 1)\n",
      "(46, 1)\n",
      "(47, 1)\n",
      "(48, 1)\n",
      "(49, 1)\n",
      "(50, 1)\n",
      "(51, 1)\n",
      "(52, 1)\n",
      "(53, 1)\n",
      "(54, 1)\n",
      "(55, 1)\n",
      "(56, 1)\n",
      "(57, 1)\n",
      "(58, 1)\n",
      "(59, 1)\n",
      "(60, 1)\n",
      "(61, 1)\n",
      "(62, 1)\n",
      "(63, 1)\n",
      "(64, 1)\n",
      "(65, 1)\n",
      "(66, 1)\n",
      "(67, 1)\n",
      "(68, 1)\n",
      "(69, 1)\n",
      "(70, 1)\n",
      "(71, 1)\n",
      "(72, 1)\n",
      "(73, 1)\n",
      "(74, 1)\n",
      "(75, 1)\n",
      "(76, 1)\n",
      "(77, 1)\n",
      "(78, 1)\n",
      "(79, 1)\n",
      "(80, 1)\n",
      "(81, 1)\n",
      "(82, 1)\n",
      "(83, 1)\n",
      "(84, 1)\n",
      "(85, 1)\n",
      "(86, 1)\n",
      "(87, 1)\n",
      "(88, 1)\n",
      "(89, 1)\n",
      "(90, 1)\n",
      "(91, 1)\n",
      "(92, 1)\n",
      "(93, 1)\n",
      "(94, 1)\n",
      "(95, 1)\n",
      "(96, 1)\n",
      "(97, 1)\n",
      "(98, 1)\n",
      "(99, 1)\n",
      "(100, 1)\n",
      "(101, 1)\n",
      "(102, 1)\n",
      "(103, 1)\n",
      "(104, 1)\n",
      "(105, 1)\n",
      "(106, 1)\n",
      "(107, 1)\n",
      "(108, 1)\n",
      "(109, 1)\n",
      "(110, 1)\n",
      "(111, 1)\n",
      "(112, 1)\n",
      "(113, 1)\n",
      "(114, 1)\n",
      "(115, 1)\n",
      "(116, 1)\n",
      "(117, 1)\n",
      "(118, 1)\n",
      "(119, 1)\n",
      "(120, 1)\n",
      "(121, 1)\n",
      "(122, 1)\n",
      "(123, 1)\n",
      "(124, 1)\n",
      "(125, 1)\n",
      "(126, 1)\n",
      "(127, 1)\n",
      "(128, 1)\n",
      "(129, 1)\n",
      "(130, 1)\n",
      "(131, 1)\n",
      "(132, 1)\n",
      "(133, 1)\n",
      "(134, 1)\n",
      "(135, 1)\n",
      "(136, 1)\n",
      "(137, 1)\n",
      "(138, 1)\n",
      "(139, 1)\n",
      "(140, 1)\n",
      "(141, 1)\n",
      "(142, 1)\n",
      "(143, 1)\n",
      "(144, 1)\n",
      "(145, 1)\n",
      "(146, 1)\n",
      "(147, 1)\n",
      "(148, 1)\n",
      "(149, 1)\n",
      "(150, 1)\n",
      "(151, 1)\n",
      "(152, 1)\n",
      "(153, 1)\n",
      "(154, 1)\n",
      "(155, 1)\n",
      "(156, 1)\n",
      "(157, 1)\n",
      "(158, 1)\n",
      "(159, 1)\n",
      "(160, 1)\n",
      "(161, 1)\n",
      "(162, 1)\n",
      "(163, 1)\n",
      "(164, 1)\n",
      "(165, 1)\n",
      "(166, 1)\n",
      "(167, 1)\n",
      "(168, 1)\n",
      "(169, 1)\n",
      "(170, 1)\n",
      "(171, 1)\n",
      "(172, 1)\n",
      "(173, 1)\n",
      "(174, 1)\n",
      "(175, 1)\n",
      "(176, 1)\n",
      "(177, 1)\n",
      "(178, 1)\n",
      "(179, 1)\n",
      "(180, 1)\n",
      "(181, 1)\n",
      "(182, 1)\n",
      "(183, 1)\n",
      "(184, 1)\n",
      "(185, 1)\n",
      "(186, 1)\n",
      "(187, 1)\n",
      "(188, 1)\n",
      "(189, 1)\n",
      "(190, 1)\n",
      "(191, 1)\n",
      "(192, 1)\n",
      "(193, 1)\n",
      "(194, 1)\n",
      "(195, 1)\n",
      "(196, 1)\n",
      "(197, 1)\n",
      "(198, 1)\n",
      "(199, 1)\n",
      "tests:\n",
      "[]\n",
      "MINIMUM MODULI\n"
     ]
    },
    {
     "data": {
      "image/png": "[encoded data removed]",
      "text/plain": [
       "Graphics object consisting of 1 graphics primitive"
      ]
     },
     "metadata": {},
     "output_type": "display_data"
    },
    {
     "name": "stdout",
     "output_type": "stream",
     "text": [
      "LOGS MINIMUM MODULI\n"
     ]
    },
    {
     "data": {
      "image/png": "[encoded data removed]",
      "text/plain": [
       "Graphics object consisting of 1 graphics primitive"
      ]
     },
     "metadata": {},
     "output_type": "display_data"
    },
    {
     "name": "stdout",
     "output_type": "stream",
     "text": [
      "MAXIMUM MODULI\n"
     ]
    },
    {
     "data": {
      "image/png": "[encoded data removed]",
      "text/plain": [
       "Graphics object consisting of 1 graphics primitive"
      ]
     },
     "metadata": {},
     "output_type": "display_data"
    },
    {
     "name": "stdout",
     "output_type": "stream",
     "text": [
      "LOGS MAXIMUM MODULI\n"
     ]
    },
    {
     "data": {
      "image/png": "[encoded data removed]",
      "text/plain": [
       "Graphics object consisting of 0 graphics primitives"
      ]
     },
     "metadata": {},
     "output_type": "display_data"
    }
   ],
   "source": [
    "def P_matrix(lst):\n",
    "    lenlist = len(lst)\n",
    "    columns = [lst]\n",
    "    for k in range(1, lenlist):\n",
    "        column = [0]*(k-1) + [-k] + lst\n",
    "        column = column[:lenlist]\n",
    "        columns.append(column)\n",
    "        #print(\"DEBUG columns =\", columns)   # <---- add this\n",
    "    return matrix(columns).transpose()\n",
    "\n",
    "import pickle\n",
    "with open('/Users/barrybrent/data/run30sept25no1.txt', 'rb') as rfile:\n",
    "    j_list = pickle.load(rfile)\n",
    "\n",
    "\n",
    "from sage.all import *\n",
    "precision_bits = 100\n",
    "CIF = ComplexIntervalField(precision_bits)\n",
    "x = polygen(QQ)  # Can remain in preamble if all polynomials are in one variable\n",
    "matrix_list=[]\n",
    "charpol_list=[]\n",
    "roots_list=[]\n",
    "aar_list=[]\n",
    "centers_list=[]\n",
    "max_diameter_list=[]\n",
    "mins_list=[]\n",
    "maxes_list=[]\n",
    "log_mins_list=[]\n",
    "log_maxes_list=[]\n",
    "no=[]\n",
    "tests=[]\n",
    "for bound in range(2,200):\n",
    "    lst = [j[1] for j in j_list[1:bound+1]] # cuts out the dummy offset\n",
    "    inpt=[j for j in lst]\n",
    "    pl=P_matrix(inpt)\n",
    "    test=pl.det()/(nth_prime(bound)*factorial(bound))\n",
    "    if test!=1:\n",
    "        no.append(bound)\n",
    "    #show(pl)\n",
    "    print((bound,test))\n",
    "    matrix_list+=[(bound,pl)]\n",
    "    cp=pl.charpoly()\n",
    "    charpol_list+=[(bound,cp)]\n",
    "    roots = cp.roots(ring=CIF, multiplicities=False)        # produces list of roots as Sage objects\n",
    "    roots_list+=[(bound,roots)]\n",
    "    centers=[r.center() for r in roots]\n",
    "    pairs = [(z.real(), z.imag()) for z in centers]\n",
    "\n",
    "# Plot the points (no lines, small points, only axis ticks)\n",
    "    p = list_plot(pairs, plotjoined=False, pointsize=10, axes_labels=['', ''])\n",
    "    #p.show()\n",
    "    centers_list+=[(bound,centers)]\n",
    "    max_diameter=max([r.diameter() for r in roots])\n",
    "    max_diameter_list+=[(bound,max_diameter)]\n",
    "    aar = [r.abs() for r in roots]\n",
    "    aar_list+=[(bound,aar)]\n",
    "    # compute absolute value for each root (before any conversion)\n",
    "    if aar!=[]:\n",
    "        minn = min(aar)\n",
    "        mins_list.append((bound,minn))\n",
    "        log_minn=log(minn)\n",
    "        log_mins_list.append((bound,log_minn))\n",
    "        maxx=max(aar)\n",
    "        maxes_list.append((bound,maxx))\n",
    "    \n",
    "print(\"tests:\")\n",
    "print(tests)\n",
    "p = list_plot(mins_list, plotjoined=True, axes_labels=['', ''])\n",
    "print(\"MINIMUM MODULI\")\n",
    "p.show()\n",
    "p = list_plot(log_mins_list, plotjoined=False, pointsize=5, axes_labels=['', ''])\n",
    "print(\"LOGS MINIMUM MODULI\")\n",
    "p.show()\n",
    "p = list_plot(maxes_list, plotjoined=True, axes_labels=['', ''])\n",
    "print(\"MAXIMUM MODULI\")\n",
    "p.show()\n",
    "p = list_plot(log_maxes_list, plotjoined=False, pointsize=5, axes_labels=['', ''])\n",
    "print(\"LOGS MAXIMUM MODULI\")\n",
    "p.show()\n",
    "with open('/Users/barrybrent/data/run30sept25no2.txt', 'wb') as wfile:\n",
    "    pickle.dump(j_list, wfile) # ouput snipped\n",
    "with open('/Users/barrybrent/data/run30sept25no3.txt', 'wb') as wfile:\n",
    "    pickle.dump(mins_list, wfile) # ouput snipped\n",
    "with open('/Users/barrybrent/data/run30sept25no4.txt', 'wb') as wfile:\n",
    "    pickle.dump(maxes_list, wfile) # ouput snipped"
   ]
  },
  {
   "cell_type": "code",
   "execution_count": 92,
   "id": "4f5cd21c-978a-4413-9748-bf20f044f26b",
   "metadata": {},
   "outputs": [
    {
     "name": "stdout",
     "output_type": "stream",
     "text": [
      "[(2, 2.44948974278317809819728407471?), (3, 3.3002709768391289926387220107?), (4, 3.9995327919357884627900405770?), (5, 5.3944503585378489520729720356?), (6, 6.7869579846395559588816698245?)]\n"
     ]
    }
   ],
   "source": [
    "print(maxes_list[:5])"
   ]
  },
  {
   "cell_type": "code",
   "execution_count": 93,
   "id": "2082c295-b86c-4d67-94cd-2b6ba36c3e0d",
   "metadata": {},
   "outputs": [
    {
     "name": "stdout",
     "output_type": "stream",
     "text": [
      "(2, 1.22474487139159)\n",
      "(3, 1.10009032561304)\n",
      "(4, 0.999883197983947)\n",
      "(5, 1.07889007170757)\n",
      "(6, 1.13115966410659)\n",
      "(7, 1.17529644581636)\n",
      "(8, 1.21008387436491)\n",
      "(9, 1.23837148749563)\n",
      "(10, 1.26167639169393)\n",
      "(11, 1.28109777316474)\n",
      "(12, 1.29744753219640)\n",
      "(13, 1.31134048188223)\n",
      "(14, 1.32324858258490)\n",
      "(15, 1.33353797640218)\n",
      "(16, 1.34249535795298)\n",
      "(17, 1.35034720913627)\n",
      "(18, 1.35727400496678)\n",
      "(19, 1.36342078921168)\n",
      "(20, 1.36890510014272)\n",
      "(21, 1.37382295006833)\n",
      "(22, 1.37825336835949)\n",
      "(23, 1.38226187864790)\n",
      "(24, 1.38590318057116)\n",
      "(25, 1.38922323398550)\n",
      "(26, 1.39226089118994)\n",
      "(27, 1.39504918477619)\n",
      "(28, 1.39761635116477)\n",
      "(29, 1.39998664978535)\n",
      "(30, 1.40218102311542)\n",
      "(31, 1.40421763191329)\n",
      "(32, 1.40611229190487)\n",
      "(33, 1.40787883214628)\n",
      "(34, 1.40952939074162)\n",
      "(35, 1.41107466015310)\n",
      "(36, 1.41252409171623)\n",
      "(37, 1.41388606695672)\n",
      "(38, 1.41516804174946)\n",
      "(39, 1.41637666814851)\n",
      "(40, 1.41751789777095)\n",
      "(41, 1.41859706987178)\n",
      "(42, 1.41961898665856)\n",
      "(43, 1.42058797792496)\n",
      "(44, 1.42150795670859)\n",
      "(45, 1.42238246737657)\n",
      "(46, 1.42321472729996)\n",
      "(47, 1.42400766308080)\n",
      "(48, 1.42476394213497)\n",
      "(49, 1.42548600030293)\n",
      "(50, 1.42617606605253)\n",
      "(51, 1.42683618174907)\n",
      "(52, 1.42746822239450)\n",
      "(53, 1.42807391217623)\n",
      "(54, 1.42865483911528)\n",
      "(55, 1.42921246806106)\n",
      "(56, 1.42974815224390)\n",
      "(57, 1.43026314356699)\n",
      "(58, 1.43075860179346)\n",
      "(59, 1.43123560276326)\n",
      "(60, 1.43169514575608)\n",
      "(61, 1.43213816010097)\n",
      "(62, 1.43256551112035)\n",
      "(63, 1.43297800548439)\n",
      "(64, 1.43337639604240)\n",
      "(65, 1.43376138618920)\n",
      "(66, 1.43413363381744)\n",
      "(67, 1.43449375490059)\n",
      "(68, 1.43484232674578)\n",
      "(69, 1.43517989095124)\n",
      "(70, 1.43550695609884)\n",
      "(71, 1.43582400020887)\n",
      "(72, 1.43613147298080)\n",
      "(73, 1.43642979784158)\n",
      "(74, 1.43671937382003)\n",
      "(75, 1.43700057726447)\n",
      "(76, 1.43727376341834)\n",
      "(77, 1.43753926786731)\n",
      "(78, 1.43779740786984)\n",
      "(79, 1.43804848358197)\n",
      "(80, 1.43829277918582)\n",
      "(81, 1.43853056393059)\n",
      "(82, 1.43876209309379)\n",
      "(83, 1.43898760886959)\n",
      "(84, 1.43920734119079)\n",
      "(85, 1.43942150848992)\n",
      "(86, 1.43963031840477)\n",
      "(87, 1.43983396843289)\n",
      "(88, 1.44003264653934)\n",
      "(89, 1.44022653172153)\n",
      "(90, 1.44041579453459)\n",
      "(91, 1.44060059758043)\n",
      "(92, 1.44078109596342)\n",
      "(93, 1.44095743771525)\n",
      "(94, 1.44112976419135)\n",
      "(95, 1.44129821044113)\n",
      "(96, 1.44146290555395)\n",
      "(97, 1.44162397298271)\n",
      "(98, 1.44178153084661)\n",
      "(99, 1.44193569221481)\n",
      "(100, 1.44208656537214)\n",
      "(101, 1.44223425406841)\n",
      "(102, 1.44237885775226)\n",
      "(103, 1.44252047179080)\n",
      "(104, 1.44265918767600)\n",
      "(105, 1.44279509321870)\n",
      "(106, 1.44292827273113)\n",
      "(107, 1.44305880719875)\n",
      "(108, 1.44318677444211)\n",
      "(109, 1.44331224926930)\n",
      "(110, 1.44343530361985)\n",
      "(111, 1.44355600670033)\n",
      "(112, 1.44367442511253)\n",
      "(113, 1.44379062297435)\n",
      "(114, 1.44390466203416)\n",
      "(115, 1.44401660177890)\n",
      "(116, 1.44412649953628)\n",
      "(117, 1.44423441057158)\n",
      "(118, 1.44434038817927)\n",
      "(119, 1.44444448376980)\n",
      "(120, 1.44454674695187)\n",
      "(121, 1.44464722561042)\n",
      "(122, 1.44474596598066)\n",
      "(123, 1.44484301271830)\n",
      "(124, 1.44493840896622)\n",
      "(125, 1.44503219641780)\n",
      "(126, 1.44512441537719)\n",
      "(127, 1.44521510481645)\n",
      "(128, 1.44530430243004)\n",
      "(129, 1.44539204468661)\n",
      "(130, 1.44547836687829)\n",
      "(131, 1.44556330316761)\n",
      "(132, 1.44564688663228)\n",
      "(133, 1.44572914930776)\n",
      "(134, 1.44581012222794)\n",
      "(135, 1.44588983546382)\n",
      "(136, 1.44596831816054)\n",
      "(137, 1.44604559857265)\n",
      "(138, 1.44612170409777)\n",
      "(139, 1.44619666130879)\n",
      "(140, 1.44627049598458)\n",
      "(141, 1.44634323313940)\n",
      "(142, 1.44641489705095)\n",
      "(143, 1.44648551128725)\n",
      "(144, 1.44655509873231)\n",
      "(145, 1.44662368161073)\n",
      "(146, 1.44669128151125)\n",
      "(147, 1.44675791940927)\n",
      "(148, 1.44682361568843)\n",
      "(149, 1.44688839016133)\n",
      "(150, 1.44695226208930)\n",
      "(151, 1.44701525020147)\n",
      "(152, 1.44707737271292)\n",
      "(153, 1.44713864734225)\n",
      "(154, 1.44719909132827)\n",
      "(155, 1.44725872144618)\n",
      "(156, 1.44731755402296)\n",
      "(157, 1.44737560495228)\n",
      "(158, 1.44743288970871)\n",
      "(159, 1.44748942336143)\n",
      "(160, 1.44754522058742)\n",
      "(161, 1.44760029568411)\n",
      "(162, 1.44765466258155)\n",
      "(163, 1.44770833485410)\n",
      "(164, 1.44776132573175)\n",
      "(165, 1.44781364811089)\n",
      "(166, 1.44786531456479)\n",
      "(167, 1.44791633735362)\n",
      "(168, 1.44796672843413)\n",
      "(169, 1.44801649946900)\n",
      "(170, 1.44806566183575)\n",
      "(171, 1.44811422663544)\n",
      "(172, 1.44816220470099)\n",
      "(173, 1.44820960660523)\n",
      "(174, 1.44825644266863)\n",
      "(175, 1.44830272296679)\n",
      "(176, 1.44834845733765)\n",
      "(177, 1.44839365538845)\n",
      "(178, 1.44843832650245)\n",
      "(179, 1.44848247984539)\n",
      "(180, 1.44852612437177)\n",
      "(181, 1.44856926883092)\n",
      "(182, 1.44861192177276)\n",
      "(183, 1.44865409155353)\n",
      "(184, 1.44869578634120)\n",
      "(185, 1.44873701412070)\n",
      "(186, 1.44877778269910)\n",
      "(187, 1.44881809971045)\n",
      "(188, 1.44885797262059)\n",
      "(189, 1.44889740873173)\n",
      "(190, 1.44893641518693)\n",
      "(191, 1.44897499897436)\n",
      "(192, 1.44901316693155)\n",
      "(193, 1.44905092574933)\n",
      "(194, 1.44908828197582)\n",
      "(195, 1.44912524202019)\n",
      "(196, 1.44916181215627)\n",
      "(197, 1.44919799852620)\n",
      "(198, 1.44923380714376)\n",
      "(199, 1.44926924389780)\n"
     ]
    }
   ],
   "source": [
    "for pair in maxes_list:\n",
    "    ratio=RR(pair[1])/pair[0]\n",
    "    print((pair[0],ratio))"
   ]
  },
  {
   "cell_type": "code",
   "execution_count": null,
   "id": "862a0f25-3562-4842-8a9b-ceb6ea77d425",
   "metadata": {},
   "outputs": [],
   "source": []
  }
 ],
 "metadata": {
  "kernelspec": {
   "display_name": "SageMath 10.6",
   "language": "sage",
   "name": "sagemath-10.6"
  },
  "language_info": {
   "codemirror_mode": {
    "name": "ipython",
    "version": 3
   },
   "file_extension": ".py",
   "mimetype": "text/x-python",
   "name": "python",
   "nbconvert_exporter": "python",
   "pygments_lexer": "ipython3",
   "version": "3.12.5"
  }
 },
 "nbformat": 4,
 "nbformat_minor": 5
}
