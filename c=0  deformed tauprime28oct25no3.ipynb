{
 "cells": [
  {
   "cell_type": "code",
   "execution_count": 2,
   "id": "a65d35d5-ba94-4d24-8bc3-b6ad2ccd243c",
   "metadata": {},
   "outputs": [],
   "source": [
    "import pickle\n",
    "\n",
    "#from deformed 'primetau 22oct25' in subfolder 'for sequel'\n",
    "\n",
    "#with open('/Users/barrybrent/data/run22oct25no4.txt', 'wb') as wfile:\n",
    "#    pickle.dump(charpol_list, wfile) #output snipped\n",
    "\n",
    "with open('/Users/barrybrent/data/run22oct25no4.txt', 'rb') as rfile:\n",
    "    deformed_charpol_list = pickle.load(rfile) \n",
    "\n",
    "with open('/Users/barrybrent/data/run22oct25no5.txt', 'rb') as rfile:\n",
    "    deformed_dets = pickle.load(rfile) \n",
    "\n",
    "# above, j(0) = 0.\n",
    "\n"
   ]
  },
  {
   "cell_type": "code",
   "execution_count": 52,
   "id": "9557066d-ecb2-44d4-b2e2-a19a19ffbe74",
   "metadata": {},
   "outputs": [
    {
     "name": "stdout",
     "output_type": "stream",
     "text": [
      "200 200\n",
      "[(1, x), (2, x^2 - 24), (3, x^3 - 72*x + 144)]\n",
      "\n",
      "[(1, x + 24), (2, x^2 + 48*x + 504), (3, x^3 + 72*x^2 + 1512*x - 28980)]\n"
     ]
    }
   ],
   "source": [
    "print(len(deformed_charpol_list),len(deformed_charpol_list))\n",
    "print(deformed_charpol_list[:3])\n",
    "print()\n",
    "print(undeformed_charpol_list[:3])"
   ]
  },
  {
   "cell_type": "code",
   "execution_count": 53,
   "id": "7aa4957b-6847-4e27-98bd-953648542eec",
   "metadata": {},
   "outputs": [
    {
     "name": "stdout",
     "output_type": "stream",
     "text": [
      "200 0\n"
     ]
    }
   ],
   "source": [
    "yes=[]\n",
    "no=[]\n",
    "for k in range(0,200):\n",
    "    deformed_poly=deformed_charpol_list[k][1]\n",
    "    undeformed_poly=undeformed_charpol_list[k][1]\n",
    "    if deformed_poly.degree()==undeformed_poly.degree():\n",
    "        yes+=[k]\n",
    "    if deformed_poly.degree()!=undeformed_poly.degree():\n",
    "        no+=[k]\n",
    "ly=len(yes)\n",
    "ln=len(no)\n",
    "print(ly,ln)"
   ]
  },
  {
   "cell_type": "code",
   "execution_count": 54,
   "id": "bbf8c9e9-f138-42bb-adbd-868871faedc5",
   "metadata": {},
   "outputs": [
    {
     "data": {
      "text/plain": [
       "200"
      ]
     },
     "execution_count": 54,
     "metadata": {},
     "output_type": "execute_result"
    }
   ],
   "source": [
    "len(deformed_charpol_list)"
   ]
  },
  {
   "cell_type": "code",
   "execution_count": 118,
   "id": "830b2195-4226-4d99-a607-e218f2330187",
   "metadata": {},
   "outputs": [
    {
     "name": "stdout",
     "output_type": "stream",
     "text": [
      "(0, 1, 1, x, 0)\n",
      "(1, 2, 2, x^2 - 24, -24)\n",
      "(2, 3, 3, x^3 - 72*x + 144, 144)\n",
      "(3, 4, 4, x^4 - 144*x^2 + 576*x + 114588, 114588)\n",
      "(4, 5, 5, x^5 - 240*x^3 + 1440*x^2 + 572940*x - 12479232, -12479232)\n",
      "(5, 6, 6, x^6 - 360*x^4 + 2880*x^3 + 1718820*x^2 - 74875392*x + 1198192320, 1198192320)\n",
      "(6, 7, 7, x^7 - 504*x^5 + 5040*x^4 + 4010580*x^3 - 262063872*x^2 + 8387346240*x - 17919600192, -17919600192)\n",
      "(7, 8, 8, x^8 - 672*x^6 + 8064*x^5 + 8021160*x^4 - 698836992*x^3 + 33549384960*x^2 - 143356801536*x - 20578729954608, -20578729954608)\n"
     ]
    }
   ],
   "source": [
    "RR.<x> = PolynomialRing(QQ)\n",
    "for j in [0..7]:\n",
    "    n=deformed_dets[j][0]\n",
    "    dett = QQ(deformed_dets[j][1])\n",
    "    \n",
    "    poly = deformed_charpol_list[j][1]  # Don't convert to RR\n",
    "    print((j,n,binomial(n,n-1),poly,dett*(-1)**n))"
   ]
  },
  {
   "cell_type": "code",
   "execution_count": 157,
   "id": "54fb1ecf-d230-468e-83f5-de94742d34b8",
   "metadata": {},
   "outputs": [
    {
     "name": "stdout",
     "output_type": "stream",
     "text": [
      "(4, -144, x^4 - 144*x^2 + 576*x + 114588, 6, -24, 1)\n",
      "(5, -240, x^5 - 240*x^3 + 1440*x^2 + 572940*x - 12479232, 10, -144, 6)\n",
      "(6, -360, x^6 - 360*x^4 + 2880*x^3 + 1718820*x^2 - 74875392*x + 1198192320, 15, 114588, -9549/2)\n",
      "(7, -504, x^7 - 504*x^5 + 5040*x^4 + 4010580*x^3 - 262063872*x^2 + 8387346240*x - 17919600192, 21, 12479232, -519968)\n",
      "(8, -672, x^8 - 672*x^6 + 8064*x^5 + 8021160*x^4 - 698836992*x^3 + 33549384960*x^2 - 143356801536*x - 20578729954608, 28, 1198192320, -49924680)\n"
     ]
    }
   ],
   "source": [
    "tests=[]\n",
    "RR.<x> = PolynomialRing(QQ)\n",
    "k=2\n",
    "for j in [3..7]:\n",
    "    n=deformed_dets[j][0]\n",
    "    dett = QQ(deformed_dets[j-k][1])\n",
    "    poly = deformed_charpol_list[j][1]\n",
    "\n",
    "    cff= poly[n-k]\n",
    "    print((n,cff,poly,binomial(n,k),dett,binomial(n,k)*dett/cff))"
   ]
  },
  {
   "cell_type": "code",
   "execution_count": 232,
   "id": "0bdb8e62-477e-485c-bd3a-ca406e568740",
   "metadata": {},
   "outputs": [
    {
     "name": "stdout",
     "output_type": "stream",
     "text": [
      "(19701, 0)\n"
     ]
    }
   ],
   "source": [
    "def f(n,k):\n",
    "    a=factorial(n)/factorial(n-1)\n",
    "    b=factorial(n-k)/factorial(n-k-1)\n",
    "    return a/b\n",
    "yes=0\n",
    "no=0\n",
    "for k in range(2,200):\n",
    "    cffs=[]\n",
    "    tests=[]\n",
    "    for j in range(k-1,200):\n",
    "        ratios=[]\n",
    "        n=deformed_charpol_list[j][0]\n",
    "        deformed_poly=deformed_charpol_list[j][1]\n",
    "        deformed_poly1=deformed_charpol_list[j-1][1]\n",
    "        dgn=deformed_poly.degree(x)\n",
    "        dgn1=deformed_poly1.degree(x)\n",
    "        cff=deformed_poly[dgn-k]\n",
    "        cff1=deformed_poly1[dgn-k-1]\n",
    "        if cff1!=0:\n",
    "            ratio=cff/cff1\n",
    "            if ratio!=f(dgn,k):\n",
    "                no+=1\n",
    "            else:\n",
    "                yes+=1\n",
    "print((yes,no))"
   ]
  },
  {
   "cell_type": "code",
   "execution_count": null,
   "id": "5c3715d3-6cd7-4d03-930c-c86578d1d747",
   "metadata": {},
   "outputs": [],
   "source": []
  },
  {
   "cell_type": "code",
   "execution_count": 248,
   "id": "f07d6f7d-64a8-4ed9-846e-d1d0b3a2dee1",
   "metadata": {},
   "outputs": [
    {
     "name": "stdout",
     "output_type": "stream",
     "text": [
      "(19503, 0)\n"
     ]
    }
   ],
   "source": [
    "def f(n,k):\n",
    "    a=factorial(n)/factorial(n-2)\n",
    "    b=factorial(n-k)/factorial(n-2-k)\n",
    "    return a/b\n",
    "yes=0\n",
    "no=0\n",
    "for k in range(2,200):\n",
    "    cffs=[]\n",
    "    tests=[]\n",
    "    for j in range(k-1,200):\n",
    "        ratios=[]\n",
    "        n=deformed_charpol_list[j][0]\n",
    "        deformed_poly=deformed_charpol_list[j][1]\n",
    "        deformed_poly2=deformed_charpol_list[j-2][1]\n",
    "        dgn=deformed_poly.degree(x)\n",
    "        dgn2=deformed_poly2.degree(x)\n",
    "        cff=deformed_poly[dgn-k]\n",
    "        cff2=deformed_poly2[dgn-k-2]\n",
    "        if cff2!=0:\n",
    "            ratio=cff/cff2\n",
    "            if ratio!=f(dgn,k):\n",
    "                no+=1\n",
    "            else:\n",
    "                yes+=1\n",
    "print((yes,no))"
   ]
  },
  {
   "cell_type": "code",
   "execution_count": 24,
   "id": "db05dcbf-00dc-4ee0-8a96-8d1ef25cc683",
   "metadata": {},
   "outputs": [
    {
     "name": "stdout",
     "output_type": "stream",
     "text": [
      "(2, 19503, 0)\n"
     ]
    }
   ],
   "source": [
    "w=2\n",
    "def f(n,k):\n",
    "    a=factorial(n)/factorial(n-w)\n",
    "    b=factorial(n-k)/factorial(n-w-k)\n",
    "    return a/b\n",
    "yes=0\n",
    "no=0\n",
    "for k in range(2,200):\n",
    "    cffs=[]\n",
    "    tests=[]\n",
    "    for j in range(k,200):\n",
    "        ratios=[]\n",
    "        n=deformed_charpol_list[j][0]\n",
    "        deformed_poly=deformed_charpol_list[j][1]\n",
    "        deformed_polyw=deformed_charpol_list[j-w][1]\n",
    "        dgn=deformed_poly.degree(x)\n",
    "        dgnw=deformed_polyw.degree(x)\n",
    "        cff=deformed_poly[dgn-k]\n",
    "        cffw=deformed_polyw[dgn-k-w]\n",
    "        if cffw!=0:\n",
    "            ratio=cff/cffw\n",
    "            if ratio!=f(dgn,k):\n",
    "                no+=1\n",
    "            else:\n",
    "                yes+=1\n",
    "            \n",
    "print((w,yes,no))"
   ]
  },
  {
   "cell_type": "code",
   "execution_count": null,
   "id": "5696811d-fb6d-4eae-98a5-4a4ef56fcba7",
   "metadata": {},
   "outputs": [],
   "source": []
  },
  {
   "cell_type": "code",
   "execution_count": 4,
   "id": "88d516d4-4a55-4afb-ae4d-6bd427c3fa94",
   "metadata": {},
   "outputs": [
    {
     "name": "stdout",
     "output_type": "stream",
     "text": [
      "(1293699, 0)\n"
     ]
    }
   ],
   "source": [
    "yes=0\n",
    "no=0\n",
    "for w in [2..200]:\n",
    "    def f(n,k):\n",
    "        a=factorial(n)/factorial(n-w)\n",
    "        b=factorial(n-k)/factorial(n-w-k)\n",
    "        return a/b\n",
    "    for k in range(2,200):\n",
    "        cffs=[]\n",
    "        tests=[]\n",
    "        for j in range(k,200):\n",
    "            ratios=[]\n",
    "            n=deformed_charpol_list[j][0]\n",
    "            deformed_poly=deformed_charpol_list[j][1]\n",
    "            deformed_polyw=deformed_charpol_list[j-w][1]\n",
    "            dgn=deformed_poly.degree(x)\n",
    "            dgnw=deformed_polyw.degree(x)\n",
    "            cff=deformed_poly[dgn-k]\n",
    "            cffw=deformed_polyw[dgn-k-w]\n",
    "            if cffw!=0:\n",
    "                ratio=cff/cffw\n",
    "                if ratio!=f(dgn,k):\n",
    "                    no+=1\n",
    "                else:\n",
    "                    yes+=1\n",
    "            \n",
    "print((yes,no))"
   ]
  },
  {
   "cell_type": "code",
   "execution_count": 5,
   "id": "560962ea-e2f2-4e65-939a-e967bbc4a779",
   "metadata": {},
   "outputs": [
    {
     "name": "stdout",
     "output_type": "stream",
     "text": [
      "(19701, 0)\n"
     ]
    }
   ],
   "source": [
    "def f(n,k):\n",
    "    a=factorial(n)/factorial(n-w)\n",
    "    b=factorial(n-k)/factorial(n-w-k)\n",
    "    return a/b\n",
    "yes=0\n",
    "no=0\n",
    "for k in range(2,200):\n",
    "    cffs=[]\n",
    "    tests=[]\n",
    "    for j in range(k,200):\n",
    "        ratios=[]\n",
    "        n=deformed_charpol_list[j][0]\n",
    "        deformed_poly=deformed_charpol_list[j][1]\n",
    "            \n",
    "        dgn=deformed_poly.degree(x)\n",
    "        w=dgn-k\n",
    "        deformed_polyw=deformed_charpol_list[j-w][1]\n",
    "        dgnw=deformed_polyw.degree(x)\n",
    "        cff=deformed_poly[dgn-k]\n",
    "        cffw=deformed_polyw[dgn-k-w]\n",
    "        if cffw!=0:\n",
    "            ratio=cff/cffw\n",
    "            if ratio!=f(dgn,k):\n",
    "                no+=1\n",
    "            else:\n",
    "                yes+=1\n",
    "            \n",
    "print((yes,no)) "
   ]
  },
  {
   "cell_type": "code",
   "execution_count": 6,
   "id": "d012fa18-dd88-462c-8fe4-8222216a9f60",
   "metadata": {},
   "outputs": [
    {
     "name": "stdout",
     "output_type": "stream",
     "text": [
      "(19701, 0)\n"
     ]
    }
   ],
   "source": [
    "def f(n,k):\n",
    "    a=factorial(n)/factorial(n-w)\n",
    "    b=factorial(n-k)/factorial(n-w-k)\n",
    "    return a/b\n",
    "yes=0\n",
    "no=0\n",
    "for k in range(2,200):\n",
    "    cffs=[]\n",
    "    tests=[]\n",
    "    for j in range(k,200):\n",
    "        ratios=[]\n",
    "        n=deformed_charpol_list[j][0]\n",
    "        deformed_poly=deformed_charpol_list[j][1]\n",
    "            \n",
    "        dgn=deformed_poly.degree(x)\n",
    "        w=dgn-k\n",
    "        deformed_polyw=deformed_charpol_list[j-w][1]\n",
    "        dgnw=deformed_polyw.degree(x)\n",
    "        cff=deformed_poly[dgn-k]\n",
    "        cffw=deformed_polyw[0]\n",
    "        if cffw!=0:\n",
    "            ratio=cff/cffw\n",
    "            if ratio!=f(dgn,k):\n",
    "                no+=1\n",
    "            else:\n",
    "                yes+=1\n",
    "            \n",
    "print((yes,no)) "
   ]
  },
  {
   "cell_type": "code",
   "execution_count": 8,
   "id": "771402ce-18d7-4a93-a95d-0373e6530f18",
   "metadata": {},
   "outputs": [
    {
     "name": "stdout",
     "output_type": "stream",
     "text": [
      "(19701, 0)\n"
     ]
    }
   ],
   "source": [
    "def f(n,k,w):\n",
    "    a=factorial(n)/factorial(n-w)\n",
    "    b=factorial(n-k)/factorial(n-w-k)\n",
    "    return a/b\n",
    "yes=0\n",
    "no=0\n",
    "for k in range(2,200):\n",
    "    cffs=[]\n",
    "    tests=[]\n",
    "    for j in range(k,200):\n",
    "        ratios=[]\n",
    "        n=deformed_charpol_list[j][0]\n",
    "        \n",
    "        deformed_poly=deformed_charpol_list[j][1]\n",
    "            \n",
    "        dgn=deformed_poly.degree(x)\n",
    "        deformed_polyw=deformed_charpol_list[j-dgn+k][1]\n",
    "        dgnw=deformed_polyw.degree(x)\n",
    "        cff=deformed_poly[dgn-k]\n",
    "        cffw=deformed_polyw[0]\n",
    "        if cffw!=0:\n",
    "            ratio=cff/cffw\n",
    "            if ratio!=f(dgn,k,dgn-k):\n",
    "                no+=1\n",
    "            else:\n",
    "                yes+=1\n",
    "            \n",
    "print((yes,no)) "
   ]
  },
  {
   "cell_type": "code",
   "execution_count": 19,
   "id": "c67669c2-21ea-4a8b-8bad-9c5e77cd9125",
   "metadata": {},
   "outputs": [
    {
     "name": "stdout",
     "output_type": "stream",
     "text": [
      "(19701, 0, 0, 0)\n"
     ]
    }
   ],
   "source": [
    "def f(n,k,w):\n",
    "    a=factorial(n)/factorial(n-w)\n",
    "    b=factorial(n-k)/factorial(n-w-k)\n",
    "    return a/b\n",
    "yes=0\n",
    "no=0\n",
    "no2=0\n",
    "no3=0\n",
    "for k in range(2,200):\n",
    "    cffs=[]\n",
    "    tests=[]\n",
    "    for j in range(k,200):\n",
    "        ratios=[]\n",
    "        n=deformed_charpol_list[j][0]\n",
    "        if n!=j+1:\n",
    "            no3+=1\n",
    "        deformed_poly=deformed_charpol_list[j][1]\n",
    "            \n",
    "        dgn=deformed_poly.degree(x)\n",
    "        if dgn!=n:\n",
    "            no2+=1\n",
    "        deformed_polyw=deformed_charpol_list[k-1][1]\n",
    "        cff=deformed_poly[dgn-k]\n",
    "        cffw=deformed_polyw[0]\n",
    "        if cffw!=0:\n",
    "            ratio=cff/cffw\n",
    "            if ratio!=f(dgn,k,dgn-k):\n",
    "                no+=1\n",
    "            else:\n",
    "                yes+=1\n",
    "            \n",
    "print((yes,no,no2,no3))"
   ]
  },
  {
   "cell_type": "code",
   "execution_count": 9,
   "id": "f5d0c6be-8827-43d3-957d-e97992dbf65b",
   "metadata": {},
   "outputs": [
    {
     "name": "stdout",
     "output_type": "stream",
     "text": [
      "(19701, 0, 0, 0, 0)\n"
     ]
    }
   ],
   "source": [
    "yes=0\n",
    "no=0\n",
    "no2=0\n",
    "no3=0\n",
    "no_cst=0\n",
    "for k in range(2,200):\n",
    "    cffs=[]\n",
    "    tests=[]\n",
    "    for j in range(k,200):\n",
    "        ratios=[]\n",
    "        n=deformed_charpol_list[j][0]\n",
    "        if n!=j+1:\n",
    "            no3+=1\n",
    "        deformed_poly=deformed_charpol_list[j][1]\n",
    "            \n",
    "        dgn=deformed_poly.degree(x)\n",
    "        if dgn!=n:\n",
    "            no2+=1\n",
    "        deformed_polyw=deformed_charpol_list[k-1][1]\n",
    "        cff=deformed_poly[dgn-k]\n",
    "        cffw=deformed_polyw[0]\n",
    "        if cffw==0:\n",
    "            no_cst+=1\n",
    "        if cffw!=0:\n",
    "            ratio=cff/cffw\n",
    "            if ratio!=binomial(dgn,k):\n",
    "                no+=1\n",
    "            else:\n",
    "                yes+=1\n",
    "            \n",
    "print((yes,no,no2,no3,no_cst))"
   ]
  },
  {
   "cell_type": "code",
   "execution_count": null,
   "id": "d06a9ecf-aa4b-4dc8-87fa-7995d24a5fcf",
   "metadata": {},
   "outputs": [],
   "source": []
  }
 ],
 "metadata": {
  "kernelspec": {
   "display_name": "SageMath 10.6",
   "language": "sage",
   "name": "sagemath-10.6"
  },
  "language_info": {
   "codemirror_mode": {
    "name": "ipython",
    "version": 3
   },
   "file_extension": ".py",
   "mimetype": "text/x-python",
   "name": "python",
   "nbconvert_exporter": "python",
   "pygments_lexer": "ipython3",
   "version": "3.12.5"
  }
 },
 "nbformat": 4,
 "nbformat_minor": 5
}
