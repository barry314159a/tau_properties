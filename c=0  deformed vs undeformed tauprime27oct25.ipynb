{
 "cells": [
  {
   "cell_type": "code",
   "execution_count": 1,
   "id": "a65d35d5-ba94-4d24-8bc3-b6ad2ccd243c",
   "metadata": {},
   "outputs": [],
   "source": [
    "import pickle\n",
    "\n",
    "#from deformed 'primetau 22oct25' in subfolder 'for sequel'\n",
    "\n",
    "#with open('/Users/barrybrent/data/run22oct25no4.txt', 'wb') as wfile:\n",
    "#    pickle.dump(charpol_list, wfile) #output snipped\n",
    "\n",
    "with open('/Users/barrybrent/data/run22oct25no4.txt', 'rb') as rfile:\n",
    "    deformed_charpol_list = pickle.load(rfile) \n",
    "\n",
    "# above, j(0) = 0.\n",
    "\n",
    "# from 'undeformed primeTau 18oct25'\n",
    "\n",
    "#with open('/Users/barrybrent/data/run18oct25no108.txt', 'wb') as wfile:\n",
    " #   pickle.dump(charpol_list, wfile) #output snipped\n",
    "\n",
    "with open('/Users/barrybrent/data/run18oct25no108.txt', 'rb') as rfile:\n",
    "    undeformed_charpol_list = pickle.load(rfile) "
   ]
  },
  {
   "cell_type": "code",
   "execution_count": 52,
   "id": "9557066d-ecb2-44d4-b2e2-a19a19ffbe74",
   "metadata": {},
   "outputs": [
    {
     "name": "stdout",
     "output_type": "stream",
     "text": [
      "200 200\n",
      "[(1, x), (2, x^2 - 24), (3, x^3 - 72*x + 144)]\n",
      "\n",
      "[(1, x + 24), (2, x^2 + 48*x + 504), (3, x^3 + 72*x^2 + 1512*x - 28980)]\n"
     ]
    }
   ],
   "source": [
    "print(len(deformed_charpol_list),len(deformed_charpol_list))\n",
    "print(deformed_charpol_list[:3])\n",
    "print()\n",
    "print(undeformed_charpol_list[:3])"
   ]
  },
  {
   "cell_type": "code",
   "execution_count": 53,
   "id": "7aa4957b-6847-4e27-98bd-953648542eec",
   "metadata": {},
   "outputs": [
    {
     "name": "stdout",
     "output_type": "stream",
     "text": [
      "200 0\n"
     ]
    }
   ],
   "source": [
    "yes=[]\n",
    "no=[]\n",
    "for k in range(0,200):\n",
    "    deformed_poly=deformed_charpol_list[k][1]\n",
    "    undeformed_poly=undeformed_charpol_list[k][1]\n",
    "    if deformed_poly.degree()==undeformed_poly.degree():\n",
    "        yes+=[k]\n",
    "    if deformed_poly.degree()!=undeformed_poly.degree():\n",
    "        no+=[k]\n",
    "ly=len(yes)\n",
    "ln=len(no)\n",
    "print(ly,ln)"
   ]
  },
  {
   "cell_type": "code",
   "execution_count": 54,
   "id": "bbf8c9e9-f138-42bb-adbd-868871faedc5",
   "metadata": {},
   "outputs": [
    {
     "data": {
      "text/plain": [
       "200"
      ]
     },
     "execution_count": 54,
     "metadata": {},
     "output_type": "execute_result"
    }
   ],
   "source": [
    "len(deformed_charpol_list)"
   ]
  },
  {
   "cell_type": "code",
   "execution_count": 22,
   "id": "d679ded1-8280-46ae-8b50-7969b75a11c3",
   "metadata": {},
   "outputs": [
    {
     "name": "stdout",
     "output_type": "stream",
     "text": [
      "True\n"
     ]
    }
   ],
   "source": [
    "def f(n,k):\n",
    "    return n/(n-k)\n",
    "yes=True    \n",
    "for k in range(2,200):\n",
    "    cffs=[]\n",
    "    tests=[]\n",
    "    for j in range(k-1,200):\n",
    "        ratios=[]\n",
    "        n=deformed_charpol_list[j][0]\n",
    "        deformed_poly=deformed_charpol_list[j][1]\n",
    "        deformed_poly1=deformed_charpol_list[j-1][1]\n",
    "        dgn=deformed_poly.degree(x)\n",
    "        dgn1=deformed_poly1.degree(x)\n",
    "        cff=deformed_poly[dgn-k]\n",
    "        cff1=deformed_poly1[dgn-k-1]\n",
    "        if cff1!=0:\n",
    "            if binomial(dgn-1,k)!=0:\n",
    "                ratio=cff/cff1\n",
    "                tupl=(dgn-dgn1,binomial(dgn,k)/binomial(dgn-1,k)-ratio,binomial(dgn,k)/binomial(dgn-1,k)-f(dgn,k),f(dgn,k)-ratio)\n",
    "                if tupl!=(1,0,0,0):\n",
    "                    print((k,n,tupl))\n",
    "                    yes=False\n",
    "print(yes)\n",
    "                        \n",
    "            "
   ]
  },
  {
   "cell_type": "code",
   "execution_count": null,
   "id": "830b2195-4226-4d99-a607-e218f2330187",
   "metadata": {},
   "outputs": [],
   "source": []
  }
 ],
 "metadata": {
  "kernelspec": {
   "display_name": "SageMath 10.6",
   "language": "sage",
   "name": "sagemath-10.6"
  },
  "language_info": {
   "codemirror_mode": {
    "name": "ipython",
    "version": 3
   },
   "file_extension": ".py",
   "mimetype": "text/x-python",
   "name": "python",
   "nbconvert_exporter": "python",
   "pygments_lexer": "ipython3",
   "version": "3.12.5"
  }
 },
 "nbformat": 4,
 "nbformat_minor": 5
}
