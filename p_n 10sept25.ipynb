{
 "cells": [
  {
   "cell_type": "code",
   "execution_count": null,
   "id": "c65bf74d-5f68-4ad4-9df3-0578c9d3c3d4",
   "metadata": {},
   "outputs": [],
   "source": [
    "from sage.all import sigma, nth_prime\n",
    "import pickle\n",
    "\n",
    "prime_lst =[] # corrected prime list\n",
    "for k in range(1, 501):\n",
    "    prime_lst.append([k,nth_prime(k)])\n",
    "    print(k)\n",
    "\n",
    "with open('/Users/barrybrent/data/run10sept25no20.txt', 'wb') as wfile:\n",
    "    pickle.dump(prime_lst, wfile) #output snipped"
   ]
  },
  {
   "cell_type": "code",
   "execution_count": 2,
   "id": "df6dc455-326a-4f54-afda-aa86682beb52",
   "metadata": {},
   "outputs": [
    {
     "name": "stdout",
     "output_type": "stream",
     "text": [
      "[[1, 2], [2, 3], [3, 5], [4, 7], [5, 11], [6, 13], [7, 17], [8, 19], [9, 23], [10, 29]]\n"
     ]
    }
   ],
   "source": [
    "import pickle\n",
    "with open('/Users/barrybrent/data/run10sept25no20.txt', 'rb') as rfile:\n",
    "    h_list = pickle.load(rfile)\n",
    "print(h_list[:10])"
   ]
  },
  {
   "cell_type": "code",
   "execution_count": null,
   "id": "1423d289-1473-4bac-b4b0-7641e5ff274f",
   "metadata": {},
   "outputs": [],
   "source": [
    "import pickle\n",
    "with open('/Users/barrybrent/data/run10sept25no20.txt', 'rb') as rfile:\n",
    "    h_list = pickle.load(rfile)\n",
    "def h(n):\n",
    "    return h_list[n][1]\n",
    "j0=1\n",
    "j_lst=[(0,j0)]\n",
    "for n in range(0,len(h_list)):\n",
    "    sm=0\n",
    "    for r in [1..n-1]:\n",
    "        sm=sm+j_lst[r][1]*h(n-r)\n",
    "    jn=n*h(n)-sm\n",
    "    j_lst+=[(n,jn)]\n",
    "    print(n)\n",
    "\n",
    "with open('/Users/barrybrent/data/run10sept25no21.txt', 'wb') as wfile:\n",
    "    pickle.dump(j_lst, wfile) #output snipped"
   ]
  },
  {
   "cell_type": "code",
   "execution_count": 4,
   "id": "2d774afd-0ac0-4af9-b8e1-14d2c603a513",
   "metadata": {},
   "outputs": [
    {
     "name": "stdout",
     "output_type": "stream",
     "text": [
      "J:\n"
     ]
    },
    {
     "data": {
      "text/html": [
       "<html>\\(\\displaystyle \\left(\\begin{array}{r}\n",
       "1\n",
       "\\end{array}\\right)\\)</html>"
      ],
      "text/latex": [
       "$\\displaystyle \\left(\\begin{array}{r}\n",
       "1\n",
       "\\end{array}\\right)$"
      ],
      "text/plain": [
       "[1]"
      ]
     },
     "metadata": {},
     "output_type": "display_data"
    },
    {
     "name": "stdout",
     "output_type": "stream",
     "text": [
      "|J|: 1\n",
      "characteristic polynomial: x - 1\n",
      "J:\n"
     ]
    },
    {
     "data": {
      "text/html": [
       "<html>\\(\\displaystyle \\left(\\begin{array}{rr}\n",
       "1 & -1 \\\\\n",
       "0 & 1\n",
       "\\end{array}\\right)\\)</html>"
      ],
      "text/latex": [
       "$\\displaystyle \\left(\\begin{array}{rr}\n",
       "1 & -1 \\\\\n",
       "0 & 1\n",
       "\\end{array}\\right)$"
      ],
      "text/plain": [
       "[ 1 -1]\n",
       "[ 0  1]"
      ]
     },
     "metadata": {},
     "output_type": "display_data"
    },
    {
     "name": "stdout",
     "output_type": "stream",
     "text": [
      "|J|: 1\n",
      "characteristic polynomial: x^2 - 2*x + 1\n",
      "J:\n"
     ]
    },
    {
     "data": {
      "text/html": [
       "<html>\\(\\displaystyle \\left(\\begin{array}{rrr}\n",
       "1 & -1 & 0 \\\\\n",
       "0 & 1 & -2 \\\\\n",
       "3 & 0 & 1\n",
       "\\end{array}\\right)\\)</html>"
      ],
      "text/latex": [
       "$\\displaystyle \\left(\\begin{array}{rrr}\n",
       "1 & -1 & 0 \\\\\n",
       "0 & 1 & -2 \\\\\n",
       "3 & 0 & 1\n",
       "\\end{array}\\right)$"
      ],
      "text/plain": [
       "[ 1 -1  0]\n",
       "[ 0  1 -2]\n",
       "[ 3  0  1]"
      ]
     },
     "metadata": {},
     "output_type": "display_data"
    },
    {
     "name": "stdout",
     "output_type": "stream",
     "text": [
      "|J|: 7\n",
      "characteristic polynomial: x^3 - 3*x^2 + 3*x - 7\n"
     ]
    }
   ],
   "source": [
    "import pickle\n",
    "Rx.<x>=PolynomialRing(QQ)\n",
    "with open('/Users/barrybrent/data/run10sept25no21.txt', 'rb') as rfile:\n",
    "    j_list=pickle.load(rfile)\n",
    "j_values=[pair[1] for pair in j_list]\n",
    "def J_matrix(j_values):\n",
    "    n = len(j_values)\n",
    "    J = matrix(QQ, n, n, 0)  # symbolic ring matrix\n",
    "\n",
    "    for i in range(n):\n",
    "        for j in range(n):\n",
    "            # Construct matrix J\n",
    "            if j == 0:\n",
    "                J[i,j] = j_values[i]\n",
    "            elif j == i + 1:\n",
    "                J[i,j] = -(i + 1)  # superdiagonal: -1, -2, ...\n",
    "            elif 1 <= j <= i:\n",
    "                J[i,j] = j_values[i - j]\n",
    "            else:\n",
    "                J[i,j] = 0\n",
    "\n",
    "    return J\n",
    "for n in [1..3]:\n",
    "    jl=j_values[:n]\n",
    "    J = J_matrix(jl)\n",
    "    print(\"J:\")\n",
    "    show(J)\n",
    "    print(\"|J|:\", J.det())\n",
    "    cp=J.charpoly(x)\n",
    "    print(\"characteristic polynomial:\",cp)"
   ]
  },
  {
   "cell_type": "code",
   "execution_count": 7,
   "id": "8746e86c-f9d9-4be7-a725-640e6e3cdf77",
   "metadata": {},
   "outputs": [
    {
     "name": "stdout",
     "output_type": "stream",
     "text": [
      "n: 0\n",
      "---------------------------------------------------------------------------------------------------\n",
      "j values:\n",
      "[]\n"
     ]
    },
    {
     "data": {
      "text/html": [
       "<html>\\(\\displaystyle ()\\)</html>"
      ],
      "text/latex": [
       "$\\displaystyle ()$"
      ],
      "text/plain": [
       "[]"
      ]
     },
     "metadata": {},
     "output_type": "display_data"
    },
    {
     "name": "stdout",
     "output_type": "stream",
     "text": [
      "n: 1\n",
      "---------------------------------------------------------------------------------------------------\n",
      "j values:\n",
      "[1]\n"
     ]
    },
    {
     "data": {
      "text/html": [
       "<html>\\(\\displaystyle \\left(\\begin{array}{r}\n",
       "1\n",
       "\\end{array}\\right)\\)</html>"
      ],
      "text/latex": [
       "$\\displaystyle \\left(\\begin{array}{r}\n",
       "1\n",
       "\\end{array}\\right)$"
      ],
      "text/plain": [
       "[1]"
      ]
     },
     "metadata": {},
     "output_type": "display_data"
    },
    {
     "name": "stdout",
     "output_type": "stream",
     "text": [
      "n: 2\n",
      "---------------------------------------------------------------------------------------------------\n",
      "j values:\n",
      "[1, 0]\n"
     ]
    },
    {
     "data": {
      "text/html": [
       "<html>\\(\\displaystyle \\left(\\begin{array}{rr}\n",
       "1 & -1 \\\\\n",
       "0 & 1\n",
       "\\end{array}\\right)\\)</html>"
      ],
      "text/latex": [
       "$\\displaystyle \\left(\\begin{array}{rr}\n",
       "1 & -1 \\\\\n",
       "0 & 1\n",
       "\\end{array}\\right)$"
      ],
      "text/plain": [
       "[ 1 -1]\n",
       "[ 0  1]"
      ]
     },
     "metadata": {},
     "output_type": "display_data"
    },
    {
     "name": "stdout",
     "output_type": "stream",
     "text": [
      "n: 3\n",
      "---------------------------------------------------------------------------------------------------\n",
      "j values:\n",
      "[1, 0, 3]\n"
     ]
    },
    {
     "data": {
      "text/html": [
       "<html>\\(\\displaystyle \\left(\\begin{array}{rrr}\n",
       "1 & -1 & 0 \\\\\n",
       "0 & 1 & -2 \\\\\n",
       "3 & 0 & 1\n",
       "\\end{array}\\right)\\)</html>"
      ],
      "text/latex": [
       "$\\displaystyle \\left(\\begin{array}{rrr}\n",
       "1 & -1 & 0 \\\\\n",
       "0 & 1 & -2 \\\\\n",
       "3 & 0 & 1\n",
       "\\end{array}\\right)$"
      ],
      "text/plain": [
       "[ 1 -1  0]\n",
       "[ 0  1 -2]\n",
       "[ 3  0  1]"
      ]
     },
     "metadata": {},
     "output_type": "display_data"
    },
    {
     "name": "stdout",
     "output_type": "stream",
     "text": [
      "n: 4\n",
      "---------------------------------------------------------------------------------------------------\n",
      "j values:\n",
      "[1, 0, 3, 10]\n"
     ]
    },
    {
     "data": {
      "text/html": [
       "<html>\\(\\displaystyle \\left(\\begin{array}{rrrr}\n",
       "1 & -1 & 0 & 0 \\\\\n",
       "0 & 1 & -2 & 0 \\\\\n",
       "3 & 0 & 1 & -3 \\\\\n",
       "10 & 3 & 0 & 1\n",
       "\\end{array}\\right)\\)</html>"
      ],
      "text/latex": [
       "$\\displaystyle \\left(\\begin{array}{rrrr}\n",
       "1 & -1 & 0 & 0 \\\\\n",
       "0 & 1 & -2 & 0 \\\\\n",
       "3 & 0 & 1 & -3 \\\\\n",
       "10 & 3 & 0 & 1\n",
       "\\end{array}\\right)$"
      ],
      "text/plain": [
       "[ 1 -1  0  0]\n",
       "[ 0  1 -2  0]\n",
       "[ 3  0  1 -3]\n",
       "[10  3  0  1]"
      ]
     },
     "metadata": {},
     "output_type": "display_data"
    },
    {
     "name": "stdout",
     "output_type": "stream",
     "text": [
      "n: 5\n",
      "---------------------------------------------------------------------------------------------------\n",
      "j values:\n",
      "[1, 0, 3, 10, 12]\n"
     ]
    },
    {
     "data": {
      "text/html": [
       "<html>\\(\\displaystyle \\left(\\begin{array}{rrrrr}\n",
       "1 & -1 & 0 & 0 & 0 \\\\\n",
       "0 & 1 & -2 & 0 & 0 \\\\\n",
       "3 & 0 & 1 & -3 & 0 \\\\\n",
       "10 & 3 & 0 & 1 & -4 \\\\\n",
       "12 & 10 & 3 & 0 & 1\n",
       "\\end{array}\\right)\\)</html>"
      ],
      "text/latex": [
       "$\\displaystyle \\left(\\begin{array}{rrrrr}\n",
       "1 & -1 & 0 & 0 & 0 \\\\\n",
       "0 & 1 & -2 & 0 & 0 \\\\\n",
       "3 & 0 & 1 & -3 & 0 \\\\\n",
       "10 & 3 & 0 & 1 & -4 \\\\\n",
       "12 & 10 & 3 & 0 & 1\n",
       "\\end{array}\\right)$"
      ],
      "text/plain": [
       "[ 1 -1  0  0  0]\n",
       "[ 0  1 -2  0  0]\n",
       "[ 3  0  1 -3  0]\n",
       "[10  3  0  1 -4]\n",
       "[12 10  3  0  1]"
      ]
     },
     "metadata": {},
     "output_type": "display_data"
    },
    {
     "name": "stdout",
     "output_type": "stream",
     "text": [
      "n: 6\n",
      "---------------------------------------------------------------------------------------------------\n",
      "j values:\n",
      "[1, 0, 3, 10, 12, -1]\n"
     ]
    },
    {
     "data": {
      "text/html": [
       "<html>\\(\\displaystyle \\left(\\begin{array}{rrrrrr}\n",
       "1 & -1 & 0 & 0 & 0 & 0 \\\\\n",
       "0 & 1 & -2 & 0 & 0 & 0 \\\\\n",
       "3 & 0 & 1 & -3 & 0 & 0 \\\\\n",
       "10 & 3 & 0 & 1 & -4 & 0 \\\\\n",
       "12 & 10 & 3 & 0 & 1 & -5 \\\\\n",
       "-1 & 12 & 10 & 3 & 0 & 1\n",
       "\\end{array}\\right)\\)</html>"
      ],
      "text/latex": [
       "$\\displaystyle \\left(\\begin{array}{rrrrrr}\n",
       "1 & -1 & 0 & 0 & 0 & 0 \\\\\n",
       "0 & 1 & -2 & 0 & 0 & 0 \\\\\n",
       "3 & 0 & 1 & -3 & 0 & 0 \\\\\n",
       "10 & 3 & 0 & 1 & -4 & 0 \\\\\n",
       "12 & 10 & 3 & 0 & 1 & -5 \\\\\n",
       "-1 & 12 & 10 & 3 & 0 & 1\n",
       "\\end{array}\\right)$"
      ],
      "text/plain": [
       "[ 1 -1  0  0  0  0]\n",
       "[ 0  1 -2  0  0  0]\n",
       "[ 3  0  1 -3  0  0]\n",
       "[10  3  0  1 -4  0]\n",
       "[12 10  3  0  1 -5]\n",
       "[-1 12 10  3  0  1]"
      ]
     },
     "metadata": {},
     "output_type": "display_data"
    },
    {
     "name": "stdout",
     "output_type": "stream",
     "text": [
      "n: 7\n",
      "---------------------------------------------------------------------------------------------------\n",
      "j values:\n",
      "[1, 0, 3, 10, 12, -1, -42]\n"
     ]
    },
    {
     "data": {
      "text/html": [
       "<html>\\(\\displaystyle \\left(\\begin{array}{rrrrrrr}\n",
       "1 & -1 & 0 & 0 & 0 & 0 & 0 \\\\\n",
       "0 & 1 & -2 & 0 & 0 & 0 & 0 \\\\\n",
       "3 & 0 & 1 & -3 & 0 & 0 & 0 \\\\\n",
       "10 & 3 & 0 & 1 & -4 & 0 & 0 \\\\\n",
       "12 & 10 & 3 & 0 & 1 & -5 & 0 \\\\\n",
       "-1 & 12 & 10 & 3 & 0 & 1 & -6 \\\\\n",
       "-42 & -1 & 12 & 10 & 3 & 0 & 1\n",
       "\\end{array}\\right)\\)</html>"
      ],
      "text/latex": [
       "$\\displaystyle \\left(\\begin{array}{rrrrrrr}\n",
       "1 & -1 & 0 & 0 & 0 & 0 & 0 \\\\\n",
       "0 & 1 & -2 & 0 & 0 & 0 & 0 \\\\\n",
       "3 & 0 & 1 & -3 & 0 & 0 & 0 \\\\\n",
       "10 & 3 & 0 & 1 & -4 & 0 & 0 \\\\\n",
       "12 & 10 & 3 & 0 & 1 & -5 & 0 \\\\\n",
       "-1 & 12 & 10 & 3 & 0 & 1 & -6 \\\\\n",
       "-42 & -1 & 12 & 10 & 3 & 0 & 1\n",
       "\\end{array}\\right)$"
      ],
      "text/plain": [
       "[  1  -1   0   0   0   0   0]\n",
       "[  0   1  -2   0   0   0   0]\n",
       "[  3   0   1  -3   0   0   0]\n",
       "[ 10   3   0   1  -4   0   0]\n",
       "[ 12  10   3   0   1  -5   0]\n",
       "[ -1  12  10   3   0   1  -6]\n",
       "[-42  -1  12  10   3   0   1]"
      ]
     },
     "metadata": {},
     "output_type": "display_data"
    },
    {
     "name": "stdout",
     "output_type": "stream",
     "text": [
      "n: 8\n",
      "---------------------------------------------------------------------------------------------------\n",
      "j values:\n",
      "[1, 0, 3, 10, 12, -1, -42, -58]\n"
     ]
    },
    {
     "data": {
      "text/html": [
       "<html>\\(\\displaystyle \\left(\\begin{array}{rrrrrrrr}\n",
       "1 & -1 & 0 & 0 & 0 & 0 & 0 & 0 \\\\\n",
       "0 & 1 & -2 & 0 & 0 & 0 & 0 & 0 \\\\\n",
       "3 & 0 & 1 & -3 & 0 & 0 & 0 & 0 \\\\\n",
       "10 & 3 & 0 & 1 & -4 & 0 & 0 & 0 \\\\\n",
       "12 & 10 & 3 & 0 & 1 & -5 & 0 & 0 \\\\\n",
       "-1 & 12 & 10 & 3 & 0 & 1 & -6 & 0 \\\\\n",
       "-42 & -1 & 12 & 10 & 3 & 0 & 1 & -7 \\\\\n",
       "-58 & -42 & -1 & 12 & 10 & 3 & 0 & 1\n",
       "\\end{array}\\right)\\)</html>"
      ],
      "text/latex": [
       "$\\displaystyle \\left(\\begin{array}{rrrrrrrr}\n",
       "1 & -1 & 0 & 0 & 0 & 0 & 0 & 0 \\\\\n",
       "0 & 1 & -2 & 0 & 0 & 0 & 0 & 0 \\\\\n",
       "3 & 0 & 1 & -3 & 0 & 0 & 0 & 0 \\\\\n",
       "10 & 3 & 0 & 1 & -4 & 0 & 0 & 0 \\\\\n",
       "12 & 10 & 3 & 0 & 1 & -5 & 0 & 0 \\\\\n",
       "-1 & 12 & 10 & 3 & 0 & 1 & -6 & 0 \\\\\n",
       "-42 & -1 & 12 & 10 & 3 & 0 & 1 & -7 \\\\\n",
       "-58 & -42 & -1 & 12 & 10 & 3 & 0 & 1\n",
       "\\end{array}\\right)$"
      ],
      "text/plain": [
       "[  1  -1   0   0   0   0   0   0]\n",
       "[  0   1  -2   0   0   0   0   0]\n",
       "[  3   0   1  -3   0   0   0   0]\n",
       "[ 10   3   0   1  -4   0   0   0]\n",
       "[ 12  10   3   0   1  -5   0   0]\n",
       "[ -1  12  10   3   0   1  -6   0]\n",
       "[-42  -1  12  10   3   0   1  -7]\n",
       "[-58 -42  -1  12  10   3   0   1]"
      ]
     },
     "metadata": {},
     "output_type": "display_data"
    },
    {
     "name": "stdout",
     "output_type": "stream",
     "text": [
      "n: 9\n",
      "n: 10\n",
      "n: 11\n",
      "n: 12\n",
      "n: 13\n",
      "n: 14\n",
      "n: 15\n",
      "n: 16\n",
      "n: 17\n",
      "n: 18\n",
      "n: 19\n",
      "n: 20\n",
      "n: 21\n",
      "n: 22\n",
      "n: 23\n",
      "n: 24\n",
      "n: 25\n",
      "n: 26\n",
      "n: 27\n",
      "n: 28\n",
      "n: 29\n",
      "n: 30\n",
      "n: 31\n",
      "n: 32\n",
      "n: 33\n",
      "n: 34\n",
      "n: 35\n",
      "n: 36\n",
      "n: 37\n",
      "n: 38\n",
      "n: 39\n",
      "n: 40\n",
      "n: 41\n",
      "n: 42\n",
      "n: 43\n",
      "n: 44\n",
      "n: 45\n",
      "n: 46\n",
      "n: 47\n",
      "n: 48\n",
      "n: 49\n",
      "n: 50\n",
      "n: 51\n",
      "n: 52\n",
      "n: 53\n",
      "n: 54\n",
      "n: 55\n",
      "n: 56\n",
      "n: 57\n",
      "n: 58\n",
      "n: 59\n",
      "n: 60\n",
      "n: 61\n",
      "n: 62\n",
      "n: 63\n",
      "n: 64\n",
      "n: 65\n",
      "n: 66\n",
      "n: 67\n",
      "n: 68\n",
      "n: 69\n",
      "n: 70\n",
      "n: 71\n",
      "n: 72\n",
      "n: 73\n",
      "n: 74\n",
      "n: 75\n",
      "n: 76\n",
      "n: 77\n",
      "n: 78\n",
      "n: 79\n",
      "n: 80\n",
      "n: 81\n",
      "n: 82\n",
      "n: 83\n",
      "n: 84\n",
      "n: 85\n",
      "n: 86\n",
      "n: 87\n",
      "n: 88\n",
      "n: 89\n",
      "n: 90\n",
      "n: 91\n",
      "n: 92\n",
      "n: 93\n",
      "n: 94\n",
      "n: 95\n",
      "n: 96\n",
      "n: 97\n",
      "n: 98\n",
      "n: 99\n",
      "n: 100\n",
      "n: 101\n",
      "n: 102\n",
      "n: 103\n",
      "n: 104\n",
      "n: 105\n",
      "n: 106\n",
      "n: 107\n",
      "n: 108\n",
      "n: 109\n",
      "n: 110\n",
      "n: 111\n",
      "n: 112\n",
      "n: 113\n",
      "n: 114\n",
      "n: 115\n",
      "n: 116\n",
      "n: 117\n",
      "n: 118\n",
      "n: 119\n",
      "n: 120\n",
      "n: 121\n",
      "n: 122\n",
      "n: 123\n",
      "n: 124\n",
      "n: 125\n",
      "n: 126\n",
      "n: 127\n",
      "n: 128\n",
      "n: 129\n",
      "n: 130\n",
      "n: 131\n",
      "n: 132\n",
      "n: 133\n",
      "n: 134\n",
      "n: 135\n",
      "n: 136\n",
      "n: 137\n",
      "n: 138\n",
      "n: 139\n",
      "n: 140\n",
      "n: 141\n",
      "n: 142\n",
      "n: 143\n",
      "n: 144\n",
      "n: 145\n",
      "n: 146\n",
      "n: 147\n",
      "n: 148\n",
      "n: 149\n",
      "n: 150\n",
      "n: 151\n",
      "n: 152\n",
      "n: 153\n",
      "n: 154\n",
      "n: 155\n",
      "n: 156\n",
      "n: 157\n",
      "n: 158\n",
      "n: 159\n",
      "n: 160\n",
      "n: 161\n",
      "n: 162\n",
      "n: 163\n",
      "n: 164\n",
      "n: 165\n",
      "n: 166\n",
      "n: 167\n",
      "n: 168\n",
      "n: 169\n",
      "n: 170\n",
      "n: 171\n",
      "n: 172\n",
      "n: 173\n",
      "n: 174\n",
      "n: 175\n",
      "n: 176\n",
      "n: 177\n",
      "n: 178\n",
      "n: 179\n",
      "n: 180\n",
      "n: 181\n",
      "n: 182\n",
      "n: 183\n",
      "n: 184\n",
      "n: 185\n",
      "n: 186\n",
      "n: 187\n",
      "n: 188\n",
      "n: 189\n",
      "n: 190\n",
      "n: 191\n",
      "n: 192\n",
      "n: 193\n",
      "n: 194\n",
      "n: 195\n",
      "n: 196\n",
      "n: 197\n",
      "n: 198\n",
      "n: 199\n",
      "n: 200\n",
      "n: 201\n",
      "n: 202\n",
      "n: 203\n",
      "n: 204\n",
      "n: 205\n",
      "n: 206\n",
      "n: 207\n",
      "n: 208\n",
      "n: 209\n",
      "n: 210\n",
      "n: 211\n",
      "n: 212\n",
      "n: 213\n",
      "n: 214\n",
      "n: 215\n",
      "n: 216\n",
      "n: 217\n",
      "n: 218\n",
      "n: 219\n",
      "n: 220\n",
      "n: 221\n",
      "n: 222\n",
      "n: 223\n",
      "n: 224\n",
      "n: 225\n",
      "n: 226\n",
      "n: 227\n",
      "n: 228\n",
      "n: 229\n",
      "n: 230\n",
      "n: 231\n",
      "n: 232\n",
      "n: 233\n",
      "n: 234\n",
      "n: 235\n",
      "n: 236\n",
      "n: 237\n",
      "n: 238\n",
      "n: 239\n",
      "n: 240\n",
      "n: 241\n",
      "n: 242\n",
      "n: 243\n",
      "n: 244\n",
      "n: 245\n",
      "n: 246\n",
      "n: 247\n",
      "n: 248\n",
      "n: 249\n",
      "n: 250\n",
      "n: 251\n",
      "n: 252\n",
      "n: 253\n",
      "n: 254\n",
      "n: 255\n",
      "n: 256\n",
      "n: 257\n",
      "n: 258\n",
      "n: 259\n",
      "n: 260\n",
      "n: 261\n",
      "n: 262\n",
      "n: 263\n",
      "n: 264\n",
      "n: 265\n",
      "n: 266\n",
      "n: 267\n",
      "n: 268\n",
      "n: 269\n",
      "n: 270\n",
      "n: 271\n",
      "n: 272\n",
      "n: 273\n",
      "n: 274\n",
      "n: 275\n",
      "n: 276\n",
      "n: 277\n",
      "n: 278\n",
      "n: 279\n",
      "n: 280\n",
      "n: 281\n",
      "n: 282\n",
      "n: 283\n",
      "n: 284\n",
      "n: 285\n",
      "n: 286\n",
      "n: 287\n",
      "n: 288\n",
      "n: 289\n",
      "n: 290\n",
      "n: 291\n",
      "n: 292\n",
      "n: 293\n",
      "n: 294\n",
      "n: 295\n",
      "n: 296\n",
      "n: 297\n",
      "n: 298\n",
      "n: 299\n"
     ]
    }
   ],
   "source": [
    "import pickle\n",
    "Rx.<x>=PolynomialRing(QQ)\n",
    "with open('/Users/barrybrent/data/run10sept25no21.txt', 'rb') as rfile:\n",
    "    j_list=pickle.load(rfile)\n",
    "j_values=[pair[1] for pair in j_list]\n",
    "def J_matrix(j_values):\n",
    "    n = len(j_values)\n",
    "    J = matrix(QQ, n, n, 0)  # symbolic ring matrix\n",
    "\n",
    "    for i in range(n):\n",
    "        for j in range(n):\n",
    "            # Construct matrix J\n",
    "            if j == 0:\n",
    "                J[i,j] = j_values[i]\n",
    "            elif j == i + 1:\n",
    "                J[i,j] = -(i + 1)  # superdiagonal: -1, -2, ...\n",
    "            elif 1 <= j <= i:\n",
    "                J[i,j] = j_values[i - j]\n",
    "            else:\n",
    "                J[i,j] = 0\n",
    "\n",
    "    return J\n",
    "cp_list=[]\n",
    "bound=min(300,len(j_values))\n",
    "for n in range(0,bound):\n",
    "    print(\"n:\",n)\n",
    "    jl=j_values[:n]\n",
    "    J = J_matrix(jl)\n",
    "    cp=J.charpoly(algorithm=\"linbox\") # this linbox method is fast & efficient\n",
    "    cp_list.append((n, cp))\n",
    "    if n<9:\n",
    "        print(\"---------------------------------------------------------------------------------------------------\")\n",
    "        print(\"j values:\")\n",
    "        print(jl)\n",
    "        show(J)\n",
    "with open('/Users/barrybrent/data/run10sept25no22.txt', 'wb') as wfile:\n",
    "    pickle.dump(cp_list, wfile)"
   ]
  },
  {
   "cell_type": "code",
   "execution_count": 9,
   "id": "2b70cb67-5fe3-480b-b61a-7b0343c9dfca",
   "metadata": {},
   "outputs": [
    {
     "name": "stdout",
     "output_type": "stream",
     "text": [
      "[(0, 1), (1, x - 1), (2, x^2 - 2*x + 1), (3, x^3 - 3*x^2 + 3*x - 7), (4, x^4 - 4*x^3 + 6*x^2 - 28*x + 85)]\n"
     ]
    }
   ],
   "source": [
    "import pickle\n",
    "with open('/Users/barrybrent/data/run10sept25no22.txt', 'rb') as rfile:\n",
    "    cp_list = pickle.load(rfile)\n",
    "cpl=cp_list[:5]\n",
    "print(cpl)"
   ]
  },
  {
   "cell_type": "code",
   "execution_count": null,
   "id": "07fe9657",
   "metadata": {},
   "outputs": [],
   "source": []
  },
  {
   "cell_type": "code",
   "execution_count": 15,
   "id": "dc096c40-1035-45ea-81b1-099d64e6d4d3",
   "metadata": {},
   "outputs": [
    {
     "name": "stdout",
     "output_type": "stream",
     "text": [
      "n: 1\n",
      "n: 2\n",
      "n: 3\n",
      "n: 4\n",
      "n: 5\n",
      "n: 6\n",
      "n: 7\n",
      "n: 8\n",
      "n: 9\n",
      "n: 10\n",
      "n: 11\n",
      "n: 12\n",
      "n: 13\n",
      "n: 14\n",
      "n: 15\n",
      "n: 16\n",
      "n: 17\n",
      "n: 18\n",
      "n: 19\n"
     ]
    },
    {
     "data": {
      "image/png": "[encoded data removed]",
      "text/plain": [
       "Graphics object consisting of 1 graphics primitive"
      ]
     },
     "metadata": {},
     "output_type": "display_data"
    },
    {
     "name": "stdout",
     "output_type": "stream",
     "text": [
      "MINIMUM MODULI\n"
     ]
    }
   ],
   "source": [
    "import pickle\n",
    "from sage.all import matrix, QQ, list_plot, ComplexField, text, Graphics\n",
    "from datetime import datetime\n",
    "from pathlib import Path\n",
    "import sys\n",
    "# -------------------------\n",
    "# Paths and timestamped folder\n",
    "# -------------------------\n",
    "from sage.all import sigma, nth_prime\n",
    "import pickle\n",
    "\n",
    "from sage.all import ZZ, sigma\n",
    "\n",
    "import pickle\n",
    "with open('/Users/barrybrent/data/run10sept25no21.txt', 'rb') as rfile:\n",
    "    j_list = pickle.load(rfile)\n",
    "\n",
    "with open('/Users/barrybrent/data/run10sept25no20.txt', 'rb') as rfile:\n",
    "    h_list = pickle.load(rfile)\n",
    "\n",
    "with open('/Users/barrybrent/data/run10sept25no22.txt', 'rb') as rfile:\n",
    "    cp_list = pickle.load(rfile)\n",
    "    \n",
    "cp_s=[pair[1] for pair in cp_list[1:]]\n",
    "\n",
    "from sage.all import sigma, nth_prime\n",
    "\n",
    "from sage.all import ZZ, sigma\n",
    "from sage.all import *\n",
    "precision_bits = 100\n",
    "CIF = ComplexIntervalField(precision_bits)\n",
    "x = polygen(QQ)  # Can remain in preamble if all polynomials are in one variable\n",
    "matrix_list=[]\n",
    "charpol_list=[]\n",
    "roots_list=[]\n",
    "aar_list=[]\n",
    "centers_list=[]\n",
    "max_diameter_list=[]\n",
    "mins_list=[]\n",
    "checks=[]\n",
    "for bound in range(1,20):\n",
    "    print(\"n:\",bound)\n",
    "    cp=cp_s[bound]\n",
    "    roots = cp.roots(ring=CIF, multiplicities=False)        # produces list of roots as Sage objects\n",
    "    roots_list+=[(bound,roots)]\n",
    "    centers=[r.center() for r in roots]\n",
    "    pairs = [(z.real(), z.imag()) for z in centers]\n",
    "\n",
    "\n",
    "    centers_list+=[(bound,centers)]\n",
    "    max_diameter=max([r.diameter() for r in roots])\n",
    "    max_diameter_list+=[(bound,max_diameter)]\n",
    "    aar = [r.abs() for r in roots]\n",
    "    aar_list+=[(bound,aar)]\n",
    "    # compute absolute value for each root (before any conversion)\n",
    "    if aar!=[]:\n",
    "        minn = min(aar)                                         # minimum modulus\n",
    "        mins_list+=[(bound,minn)]\n",
    "    \n",
    "   \n",
    "        \n",
    "        \n",
    "p_points = list_plot(mins_list, plotjoined=False, marker='o', size=5)  # points\n",
    "\n",
    "\n",
    "p_points.axes_labels(['n', 'min modulus'])\n",
    "\n",
    "\n",
    "p_points.show()\n",
    "print(\"MINIMUM MODULI\")\n",
    "with open('/Users/barrybrent/data/run10sept25no23.txt', 'wb') as wfile:\n",
    "    pickle.dump(matrix_list, wfile)\n",
    "with open('/Users/barrybrent/data/run10sept25no24.txt', 'wb') as wfile:\n",
    "    pickle.dump(charpol_list, wfile)\n",
    "with open('/Users/barrybrent/data/run10sept25no25.txt', 'wb') as wfile:\n",
    "    pickle.dump(aar_list, wfile)\n",
    "with open('/Users/barrybrent/data/run10sept25no26.txt', 'wb') as wfile:\n",
    "    pickle.dump(centers_list, wfile)\n",
    "    pickle.dump(aar_list, wfile)\n",
    "with open('/Users/barrybrent/data/run10sept25no27.txt', 'wb') as wfile:\n",
    "    pickle.dump(max_diameter_list, wfile)\n",
    "with open('/Users/barrybrent/data/run10sept25no28.txt', 'wb') as wfile:\n",
    "    pickle.dump(mins_list, wfile)\n"
   ]
  },
  {
   "cell_type": "code",
   "execution_count": 17,
   "id": "85dc1781-9eb9-4f58-843a-f343f5718d10",
   "metadata": {},
   "outputs": [
    {
     "name": "stdout",
     "output_type": "stream",
     "text": [
      "n: 20\n",
      "n: 40\n",
      "n: 60\n",
      "n: 80\n",
      "n: 100\n",
      "n: 120\n",
      "n: 140\n",
      "n: 160\n",
      "n: 180\n",
      "n: 200\n",
      "n: 220\n",
      "n: 240\n",
      "n: 260\n",
      "n: 280\n"
     ]
    },
    {
     "data": {
      "image/png": "[encoded data removed]",
      "text/plain": [
       "Graphics object consisting of 1 graphics primitive"
      ]
     },
     "metadata": {},
     "output_type": "display_data"
    },
    {
     "name": "stdout",
     "output_type": "stream",
     "text": [
      "MINIMUM MODULI\n"
     ]
    }
   ],
   "source": [
    "import pickle\n",
    "from sage.all import matrix, QQ, list_plot, ComplexField, text, Graphics\n",
    "from datetime import datetime\n",
    "from pathlib import Path\n",
    "import sys\n",
    "# -------------------------\n",
    "# Paths and timestamped folder\n",
    "# -------------------------\n",
    "from sage.all import sigma, nth_prime\n",
    "import pickle\n",
    "\n",
    "from sage.all import ZZ, sigma\n",
    "\n",
    "import pickle\n",
    "with open('/Users/barrybrent/data/run10sept25no21.txt', 'rb') as rfile:\n",
    "    j_list = pickle.load(rfile)\n",
    "\n",
    "with open('/Users/barrybrent/data/run10sept25no20.txt', 'rb') as rfile:\n",
    "    h_list = pickle.load(rfile)\n",
    "\n",
    "with open('/Users/barrybrent/data/run10sept25no22.txt', 'rb') as rfile:\n",
    "    cp_list = pickle.load(rfile)\n",
    "    \n",
    "cp_s=[pair[1] for pair in cp_list[1:]]\n",
    "\n",
    "from sage.all import sigma, nth_prime\n",
    "\n",
    "from sage.all import ZZ, sigma\n",
    "from sage.all import *\n",
    "precision_bits = 100\n",
    "CIF = ComplexIntervalField(precision_bits)\n",
    "x = polygen(QQ)  # Can remain in preamble if all polynomials are in one variable\n",
    "aar_list=[]\n",
    "centers_list=[]\n",
    "max_diameter_list=[]\n",
    "mins_list=[]\n",
    "for bound in range(1,299):\n",
    "    if bound % 20 == 0:\n",
    "        print(\"n:\",bound)\n",
    "    cp=cp_s[bound]\n",
    "    roots = cp.roots(ring=CIF, multiplicities=False)        # produces list of roots as Sage objects\n",
    "    centers=[r.center() for r in roots]\n",
    "    pairs = [(z.real(), z.imag()) for z in centers]\n",
    "\n",
    "\n",
    "    centers_list+=[(bound,centers)]\n",
    "    max_diameter=max([r.diameter() for r in roots])\n",
    "    max_diameter_list+=[(bound,max_diameter)]\n",
    "    aar = [r.abs() for r in roots]\n",
    "    aar_list+=[(bound,aar)]\n",
    "    # compute absolute value for each root (before any conversion)\n",
    "    if aar!=[]:\n",
    "        minn = min(aar)                                         # minimum modulus\n",
    "        mins_list+=[(bound,minn)]\n",
    "    \n",
    "   \n",
    "        \n",
    "        \n",
    "p_points = list_plot(mins_list, plotjoined=False, marker='o', size=5)  # points\n",
    "\n",
    "\n",
    "p_points.axes_labels(['n', 'min modulus'])\n",
    "\n",
    "\n",
    "p_points.show()\n",
    "print(\"MINIMUM MODULI\")\n",
    "with open('/Users/barrybrent/data/run10sept25no30.txt', 'wb') as wfile:\n",
    "    pickle.dump(aar_list, wfile)\n",
    "with open('/Users/barrybrent/data/run10sept25no31.txt', 'wb') as wfile:\n",
    "    pickle.dump(centers_list, wfile)\n",
    "with open('/Users/barrybrent/data/run10sept25no32.txt', 'wb') as wfile:\n",
    "    pickle.dump(max_diameter_list, wfile)\n",
    "with open('/Users/barrybrent/data/run10sept25no33.txt', 'wb') as wfile:\n",
    "    pickle.dump(mins_list, wfile)\n"
   ]
  },
  {
   "cell_type": "code",
   "execution_count": 20,
   "id": "aea2d7bb-9405-485a-a294-72345270f40d",
   "metadata": {},
   "outputs": [
    {
     "name": "stdout",
     "output_type": "stream",
     "text": [
      "[2, 3, 5, 7, 11, 13, 17, 19, 23, 29, 31, 37, 41, 43, 47, 53, 59, 61, 67, 71, 73, 79, 83, 89, 97, 101, 103, 107, 109, 113, 127, 131, 137, 139, 149, 151, 157, 163, 167, 173, 179, 181, 191, 193, 197, 199, 211, 223, 227, 229, 233, 239, 241, 251, 257, 263, 269, 271, 277, 281, 283, 293, 307, 311, 313, 317, 331, 337, 347, 349, 353, 359, 367, 373, 379, 383, 389, 397, 401, 409, 419, 421, 431, 433, 439, 443, 449, 457, 461, 463, 467, 479, 487, 491, 499, 503, 509, 521, 523, 541]\n"
     ]
    }
   ],
   "source": [
    "h_vals=[pair[1]for pair in h_list]\n",
    "print(h_vals[:100])"
   ]
  },
  {
   "cell_type": "code",
   "execution_count": null,
   "id": "fb9a576f-d334-4cfe-986c-188f4e92e60b",
   "metadata": {},
   "outputs": [],
   "source": []
  }
 ],
 "metadata": {
  "kernelspec": {
   "display_name": "SageMath 10.6",
   "language": "sage",
   "name": "sagemath-10.6"
  },
  "language_info": {
   "codemirror_mode": {
    "name": "ipython",
    "version": 3
   },
   "file_extension": ".py",
   "mimetype": "text/x-python",
   "name": "python",
   "nbconvert_exporter": "python",
   "pygments_lexer": "ipython3",
   "version": "3.12.5"
  }
 },
 "nbformat": 4,
 "nbformat_minor": 5
}
